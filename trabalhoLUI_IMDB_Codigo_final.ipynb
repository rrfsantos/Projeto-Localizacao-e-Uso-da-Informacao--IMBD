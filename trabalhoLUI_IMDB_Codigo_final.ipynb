{
  "nbformat": 4,
  "nbformat_minor": 0,
  "metadata": {
    "application/vnd.databricks.v1+notebook": {
      "notebookName": "trabalhoLUI_IMDB - 05022021",
      "dashboards": [],
      "language": "python",
      "widgets": {},
      "notebookOrigID": 1196610378080822
    },
    "colab": {
      "name": "trabalhoLUI_IMDB - Codigo final.ipynb",
      "provenance": [],
      "include_colab_link": true
    }
  },
  "cells": [
    {
      "cell_type": "markdown",
      "metadata": {
        "id": "view-in-github",
        "colab_type": "text"
      },
      "source": [
        "<a href=\"https://colab.research.google.com/github/rrfsantos/Projeto-Localizacao-e-Uso-da-Informacao--IMDB/blob/main/trabalhoLUI_IMDB_Codigo_final.ipynb\" target=\"_parent\"><img src=\"https://colab.research.google.com/assets/colab-badge.svg\" alt=\"Open In Colab\"/></a>"
      ]
    },
    {
      "cell_type": "code",
      "metadata": {
        "application/vnd.databricks.v1+cell": {
          "title": "",
          "showTitle": false,
          "inputWidgets": {},
          "nuid": "655abb38-64cb-4d8c-932c-2a6518a39790"
        },
        "id": "qKh-ghOyxQ65",
        "outputId": "a5ff379a-95a8-4d19-9ff3-b55946611b7f"
      },
      "source": [
        "!pip install lxml\n",
        "!pip install bs4"
      ],
      "execution_count": null,
      "outputs": [
        {
          "output_type": "display_data",
          "data": {
            "text/html": [
              "<style scoped>\n",
              "  .ansiout {\n",
              "    display: block;\n",
              "    unicode-bidi: embed;\n",
              "    white-space: pre-wrap;\n",
              "    word-wrap: break-word;\n",
              "    word-break: break-all;\n",
              "    font-family: \"Source Code Pro\", \"Menlo\", monospace;;\n",
              "    font-size: 13px;\n",
              "    color: #555;\n",
              "    margin-left: 4px;\n",
              "    line-height: 19px;\n",
              "  }\n",
              "</style>\n",
              "<div class=\"ansiout\">Requirement already satisfied: lxml in /databricks/python3/lib/python3.7/site-packages (4.6.2)\r\n",
              "<span class=\"ansi-yellow-fg\">WARNING: You are using pip version 20.0.2; however, version 21.0.1 is available.\r\n",
              "You should consider upgrading via the &#39;/databricks/python3/bin/python3.7 -m pip install --upgrade pip&#39; command.</span>\r\n",
              "Requirement already satisfied: bs4 in /databricks/python3/lib/python3.7/site-packages (0.0.1)\r\n",
              "Requirement already satisfied: beautifulsoup4 in /databricks/python3/lib/python3.7/site-packages (from bs4) (4.9.3)\r\n",
              "Requirement already satisfied: soupsieve&gt;1.2; python_version &gt;= &#34;3.0&#34; in /databricks/python3/lib/python3.7/site-packages (from beautifulsoup4-&gt;bs4) (2.2)\r\n",
              "<span class=\"ansi-yellow-fg\">WARNING: You are using pip version 20.0.2; however, version 21.0.1 is available.\r\n",
              "You should consider upgrading via the &#39;/databricks/python3/bin/python3.7 -m pip install --upgrade pip&#39; command.</span>\r\n",
              "</div>"
            ]
          },
          "metadata": {
            "tags": [],
            "application/vnd.databricks.v1+output": {
              "datasetInfos": [],
              "data": "<div class=\"ansiout\">Requirement already satisfied: lxml in /databricks/python3/lib/python3.7/site-packages (4.6.2)\r\n<span class=\"ansi-yellow-fg\">WARNING: You are using pip version 20.0.2; however, version 21.0.1 is available.\r\nYou should consider upgrading via the &#39;/databricks/python3/bin/python3.7 -m pip install --upgrade pip&#39; command.</span>\r\nRequirement already satisfied: bs4 in /databricks/python3/lib/python3.7/site-packages (0.0.1)\r\nRequirement already satisfied: beautifulsoup4 in /databricks/python3/lib/python3.7/site-packages (from bs4) (4.9.3)\r\nRequirement already satisfied: soupsieve&gt;1.2; python_version &gt;= &#34;3.0&#34; in /databricks/python3/lib/python3.7/site-packages (from beautifulsoup4-&gt;bs4) (2.2)\r\n<span class=\"ansi-yellow-fg\">WARNING: You are using pip version 20.0.2; however, version 21.0.1 is available.\r\nYou should consider upgrading via the &#39;/databricks/python3/bin/python3.7 -m pip install --upgrade pip&#39; command.</span>\r\n</div>",
              "removedWidgets": [],
              "addedWidgets": {},
              "type": "html",
              "arguments": {}
            }
          }
        }
      ]
    },
    {
      "cell_type": "code",
      "metadata": {
        "application/vnd.databricks.v1+cell": {
          "title": "",
          "showTitle": false,
          "inputWidgets": {},
          "nuid": "82d359e4-a0f4-4c83-be19-65062390c38d"
        },
        "id": "FzUACozWxQ6_",
        "outputId": "7c137969-1945-4ff5-a94e-35e97371147f"
      },
      "source": [
        "import lxml\n",
        "import re\n",
        "import numpy as np\n",
        "import pandas as pd\n",
        "import requests\n",
        "import string\n",
        "import seaborn as sns\n",
        "import matplotlib.pyplot as plt\n",
        "import typing\n",
        "\n",
        "from bs4 import BeautifulSoup"
      ],
      "execution_count": null,
      "outputs": [
        {
          "output_type": "display_data",
          "data": {
            "text/html": [
              "<style scoped>\n",
              "  .ansiout {\n",
              "    display: block;\n",
              "    unicode-bidi: embed;\n",
              "    white-space: pre-wrap;\n",
              "    word-wrap: break-word;\n",
              "    word-break: break-all;\n",
              "    font-family: \"Source Code Pro\", \"Menlo\", monospace;;\n",
              "    font-size: 13px;\n",
              "    color: #555;\n",
              "    margin-left: 4px;\n",
              "    line-height: 19px;\n",
              "  }\n",
              "</style>\n",
              "<div class=\"ansiout\"></div>"
            ]
          },
          "metadata": {
            "tags": [],
            "application/vnd.databricks.v1+output": {
              "datasetInfos": [],
              "data": "<div class=\"ansiout\"></div>",
              "removedWidgets": [],
              "addedWidgets": {},
              "type": "html",
              "arguments": {}
            }
          }
        }
      ]
    },
    {
      "cell_type": "code",
      "metadata": {
        "application/vnd.databricks.v1+cell": {
          "title": "",
          "showTitle": false,
          "inputWidgets": {},
          "nuid": "d25dfe79-7763-47c6-9268-18ea761f309d"
        },
        "id": "el-cL_f9xQ7A",
        "outputId": "f946c154-dcf3-4576-bd4b-effbc2a1daef"
      },
      "source": [
        "headers = {'User-Agent': 'Mozilla/5.0 (Macintosh; Intel Mac OS X 10_12_3) AppleWebKit/537.36 (KHTML, like Gecko) Chrome/58.0.3029.110 Safari/537.36',\"Accept\": \"text/html,application/xhtml+xml,application/xml;q=0.9,image/webp,*/*;q=0.8\"}\n",
        "\n",
        "url1 = 'https://www.imdb.com/search/title?count=100&title_type=feature,tv_series&ref_=nv_wl_img_2'"
      ],
      "execution_count": null,
      "outputs": [
        {
          "output_type": "display_data",
          "data": {
            "text/html": [
              "<style scoped>\n",
              "  .ansiout {\n",
              "    display: block;\n",
              "    unicode-bidi: embed;\n",
              "    white-space: pre-wrap;\n",
              "    word-wrap: break-word;\n",
              "    word-break: break-all;\n",
              "    font-family: \"Source Code Pro\", \"Menlo\", monospace;;\n",
              "    font-size: 13px;\n",
              "    color: #555;\n",
              "    margin-left: 4px;\n",
              "    line-height: 19px;\n",
              "  }\n",
              "</style>\n",
              "<div class=\"ansiout\"></div>"
            ]
          },
          "metadata": {
            "tags": [],
            "application/vnd.databricks.v1+output": {
              "datasetInfos": [],
              "data": "<div class=\"ansiout\"></div>",
              "removedWidgets": [],
              "addedWidgets": {},
              "type": "html",
              "arguments": {}
            }
          }
        }
      ]
    },
    {
      "cell_type": "markdown",
      "metadata": {
        "application/vnd.databricks.v1+cell": {
          "title": "",
          "showTitle": false,
          "inputWidgets": {},
          "nuid": "9f4a0498-d677-4e2b-8cff-170b2353ed14"
        },
        "id": "tZ7FmpBQxQ7A"
      },
      "source": [
        "## 1 - Encontrar o padrão da URL"
      ]
    },
    {
      "cell_type": "code",
      "metadata": {
        "application/vnd.databricks.v1+cell": {
          "title": "",
          "showTitle": false,
          "inputWidgets": {},
          "nuid": "ce63f7dd-4dcb-42e7-861f-50deab6255d0"
        },
        "id": "tczZ6eN9xQ7B",
        "outputId": "169e511b-2066-4dcb-c8bd-3cb34fe73bf1"
      },
      "source": [
        "response = requests.get(url1, headers=headers)\n",
        "soup = BeautifulSoup(response.text,'html.parser')"
      ],
      "execution_count": null,
      "outputs": [
        {
          "output_type": "display_data",
          "data": {
            "text/html": [
              "<style scoped>\n",
              "  .ansiout {\n",
              "    display: block;\n",
              "    unicode-bidi: embed;\n",
              "    white-space: pre-wrap;\n",
              "    word-wrap: break-word;\n",
              "    word-break: break-all;\n",
              "    font-family: \"Source Code Pro\", \"Menlo\", monospace;;\n",
              "    font-size: 13px;\n",
              "    color: #555;\n",
              "    margin-left: 4px;\n",
              "    line-height: 19px;\n",
              "  }\n",
              "</style>\n",
              "<div class=\"ansiout\"></div>"
            ]
          },
          "metadata": {
            "tags": [],
            "application/vnd.databricks.v1+output": {
              "datasetInfos": [],
              "data": "<div class=\"ansiout\"></div>",
              "removedWidgets": [],
              "addedWidgets": {},
              "type": "html",
              "arguments": {}
            }
          }
        }
      ]
    },
    {
      "cell_type": "code",
      "metadata": {
        "application/vnd.databricks.v1+cell": {
          "title": "",
          "showTitle": false,
          "inputWidgets": {},
          "nuid": "699d2a05-e611-4f2d-8c27-6636b3ce38db"
        },
        "id": "_6xzWQQcxQ7C",
        "outputId": "c879cdbb-4ac0-4022-95ab-d21966ee83ec"
      },
      "source": [
        "movies = soup.find('div', attrs={'class': 'desc'}).get_text() # <----- Busca o número total de filmes (imagem 1)"
      ],
      "execution_count": null,
      "outputs": [
        {
          "output_type": "display_data",
          "data": {
            "text/html": [
              "<style scoped>\n",
              "  .ansiout {\n",
              "    display: block;\n",
              "    unicode-bidi: embed;\n",
              "    white-space: pre-wrap;\n",
              "    word-wrap: break-word;\n",
              "    word-break: break-all;\n",
              "    font-family: \"Source Code Pro\", \"Menlo\", monospace;;\n",
              "    font-size: 13px;\n",
              "    color: #555;\n",
              "    margin-left: 4px;\n",
              "    line-height: 19px;\n",
              "  }\n",
              "</style>\n",
              "<div class=\"ansiout\"></div>"
            ]
          },
          "metadata": {
            "tags": [],
            "application/vnd.databricks.v1+output": {
              "datasetInfos": [],
              "data": "<div class=\"ansiout\"></div>",
              "removedWidgets": [],
              "addedWidgets": {},
              "type": "html",
              "arguments": {}
            }
          }
        }
      ]
    },
    {
      "cell_type": "code",
      "metadata": {
        "application/vnd.databricks.v1+cell": {
          "title": "",
          "showTitle": false,
          "inputWidgets": {},
          "nuid": "dc4d727a-b733-41f9-9e33-c76ce05d4536"
        },
        "id": "C1thixMuxQ7D",
        "outputId": "a92a3138-631d-44cd-a065-f910748a42a3"
      },
      "source": [
        "punc_re = lambda x: re.sub('[%s]' % re.escape(string.punctuation), '', str(x).lower())\n",
        "movies = punc_re(movies)\n",
        "movies = [float(s) for s in re.findall(r'-?\\d+\\.?\\d*', movies)]\n",
        "movies = int(movies[1])"
      ],
      "execution_count": null,
      "outputs": [
        {
          "output_type": "display_data",
          "data": {
            "text/html": [
              "<style scoped>\n",
              "  .ansiout {\n",
              "    display: block;\n",
              "    unicode-bidi: embed;\n",
              "    white-space: pre-wrap;\n",
              "    word-wrap: break-word;\n",
              "    word-break: break-all;\n",
              "    font-family: \"Source Code Pro\", \"Menlo\", monospace;;\n",
              "    font-size: 13px;\n",
              "    color: #555;\n",
              "    margin-left: 4px;\n",
              "    line-height: 19px;\n",
              "  }\n",
              "</style>\n",
              "<div class=\"ansiout\"></div>"
            ]
          },
          "metadata": {
            "tags": [],
            "application/vnd.databricks.v1+output": {
              "datasetInfos": [],
              "data": "<div class=\"ansiout\"></div>",
              "removedWidgets": [],
              "addedWidgets": {},
              "type": "html",
              "arguments": {}
            }
          }
        }
      ]
    },
    {
      "cell_type": "code",
      "metadata": {
        "application/vnd.databricks.v1+cell": {
          "title": "",
          "showTitle": false,
          "inputWidgets": {},
          "nuid": "2de6dbdb-4a0c-43fc-8577-ae09adc4050a"
        },
        "id": "4WkWMWqrxQ7D",
        "outputId": "6028d6b9-e910-437e-8f14-7c7b637c9664"
      },
      "source": [
        "print('Número total de filmes: ', movies)"
      ],
      "execution_count": null,
      "outputs": [
        {
          "output_type": "display_data",
          "data": {
            "text/html": [
              "<style scoped>\n",
              "  .ansiout {\n",
              "    display: block;\n",
              "    unicode-bidi: embed;\n",
              "    white-space: pre-wrap;\n",
              "    word-wrap: break-word;\n",
              "    word-break: break-all;\n",
              "    font-family: \"Source Code Pro\", \"Menlo\", monospace;;\n",
              "    font-size: 13px;\n",
              "    color: #555;\n",
              "    margin-left: 4px;\n",
              "    line-height: 19px;\n",
              "  }\n",
              "</style>\n",
              "<div class=\"ansiout\">Número total de filmes:  656258\n",
              "</div>"
            ]
          },
          "metadata": {
            "tags": [],
            "application/vnd.databricks.v1+output": {
              "datasetInfos": [],
              "data": "<div class=\"ansiout\">Número total de filmes:  656258\n</div>",
              "removedWidgets": [],
              "addedWidgets": {},
              "type": "html",
              "arguments": {}
            }
          }
        }
      ]
    },
    {
      "cell_type": "code",
      "metadata": {
        "application/vnd.databricks.v1+cell": {
          "title": "",
          "showTitle": false,
          "inputWidgets": {},
          "nuid": "5d617e39-5473-42cc-ac12-1a359d2bc4bc"
        },
        "id": "DBFOdaGoxQ7D",
        "outputId": "1ffdec2d-42cb-49b8-ce53-7810b9bf0b6b"
      },
      "source": [
        "url_list = [url1] # <---- url1 não segue o padrão das páginas seguintes\n",
        "start = 1\n",
        "for i in range(0,movies,100):       ### --->>> Cada página contém 100 filmes <<<---\n",
        "    start +=100\n",
        "    url_list.append('https://www.imdb.com/search/title/?title_type=feature,tv_series&count=100&start='+str(start)+'&ref_=adv_nxt')\n",
        "print(url_list[3])"
      ],
      "execution_count": null,
      "outputs": [
        {
          "output_type": "display_data",
          "data": {
            "text/html": [
              "<style scoped>\n",
              "  .ansiout {\n",
              "    display: block;\n",
              "    unicode-bidi: embed;\n",
              "    white-space: pre-wrap;\n",
              "    word-wrap: break-word;\n",
              "    word-break: break-all;\n",
              "    font-family: \"Source Code Pro\", \"Menlo\", monospace;;\n",
              "    font-size: 13px;\n",
              "    color: #555;\n",
              "    margin-left: 4px;\n",
              "    line-height: 19px;\n",
              "  }\n",
              "</style>\n",
              "<div class=\"ansiout\">https://www.imdb.com/search/title/?title_type=feature,tv_series&amp;count=100&amp;start=301&amp;ref_=adv_nxt\n",
              "</div>"
            ]
          },
          "metadata": {
            "tags": [],
            "application/vnd.databricks.v1+output": {
              "datasetInfos": [],
              "data": "<div class=\"ansiout\">https://www.imdb.com/search/title/?title_type=feature,tv_series&amp;count=100&amp;start=301&amp;ref_=adv_nxt\n</div>",
              "removedWidgets": [],
              "addedWidgets": {},
              "type": "html",
              "arguments": {}
            }
          }
        }
      ]
    },
    {
      "cell_type": "markdown",
      "metadata": {
        "application/vnd.databricks.v1+cell": {
          "title": "",
          "showTitle": false,
          "inputWidgets": {},
          "nuid": "db435cbf-11e9-4ce8-a745-710d212522a7"
        },
        "id": "mf6tm-oZxQ7E"
      },
      "source": [
        "## 2 - Executar webscraping do número de páginas (n) desejado e criar dataframe com as informações"
      ]
    },
    {
      "cell_type": "code",
      "metadata": {
        "application/vnd.databricks.v1+cell": {
          "title": "",
          "showTitle": false,
          "inputWidgets": {},
          "nuid": "852515c5-417f-4342-847b-2454ac911fad"
        },
        "id": "f7OqzIi8xQ7E",
        "outputId": "828d9fe3-6594-41ec-d0a2-5282073dfab8"
      },
      "source": [
        "### Definir número de páginas ###\n",
        "n = 100"
      ],
      "execution_count": null,
      "outputs": [
        {
          "output_type": "display_data",
          "data": {
            "text/html": [
              "<style scoped>\n",
              "  .ansiout {\n",
              "    display: block;\n",
              "    unicode-bidi: embed;\n",
              "    white-space: pre-wrap;\n",
              "    word-wrap: break-word;\n",
              "    word-break: break-all;\n",
              "    font-family: \"Source Code Pro\", \"Menlo\", monospace;;\n",
              "    font-size: 13px;\n",
              "    color: #555;\n",
              "    margin-left: 4px;\n",
              "    line-height: 19px;\n",
              "  }\n",
              "</style>\n",
              "<div class=\"ansiout\"></div>"
            ]
          },
          "metadata": {
            "tags": [],
            "application/vnd.databricks.v1+output": {
              "datasetInfos": [],
              "data": "<div class=\"ansiout\"></div>",
              "removedWidgets": [],
              "addedWidgets": {},
              "type": "html",
              "arguments": {}
            }
          }
        }
      ]
    },
    {
      "cell_type": "code",
      "metadata": {
        "application/vnd.databricks.v1+cell": {
          "title": "",
          "showTitle": false,
          "inputWidgets": {},
          "nuid": "7d17a8d2-86e9-46b6-824f-4fa064ccbf80"
        },
        "id": "UQe7M5S0xQ7E",
        "outputId": "f32ca001-9e24-494d-91b4-801093e5133f"
      },
      "source": [
        "### Função para executar webscraping ###\n",
        "class IMDB(object):\n",
        "\t\"\"\"docstring for IMDB\"\"\"\n",
        "\tdef __init__(self, url):\n",
        "\t\tsuper(IMDB, self).__init__()\n",
        "\t\tpage = requests.get(url)\n",
        "\n",
        "\t\tself.soup = BeautifulSoup(page.content, 'lxml')\n",
        "\n",
        "\tdef articleTitle(self):\n",
        "\t\treturn self.soup.find(\"h1\", class_=\"header\").text.replace(\"\\n\",\"\")\n",
        "\n",
        "\tdef bodyContent(self):\n",
        "\t\tcontent = self.soup.find(id=\"main\")\n",
        "\t\treturn content.find_all(\"div\", class_=\"lister-item mode-advanced\")\n",
        "\n",
        "\tdef movieData(self):\n",
        "\t\tmovieFrame = self.bodyContent()\n",
        "\t\tmovieTitle = []\n",
        "\t\tmovieDate = []\n",
        "\t\tmovieRunTime = []\n",
        "\t\tmovieGenre = []\n",
        "\t\tmovieRating = []\n",
        "\t\tmovieScore = []\n",
        "\t\tmovieDescription = []\n",
        "\t\tmovieDirector = []\n",
        "\t\tmovieStars = []\n",
        "\t\tmovieVotes = []\n",
        "\t\tmovieGross = []\n",
        "\t\tfor movie in movieFrame:\n",
        "\t\t\t\n",
        "\t\t\tmovieFirstLine = movie.find(\"h3\", class_=\"lister-item-header\")\n",
        "\t\t\t\n",
        "\t\t\tmovieTitle.append(movieFirstLine.find(\"a\").text)\n",
        "\t\t\t\n",
        "\t\t\tmovieDate.append(re.sub(r\"[()]\",\"\", movieFirstLine.find_all(\"span\")[-1].text))\n",
        "\n",
        "\t\t\ttry:\n",
        "\t\t\t\tmovieRunTime.append(movie.find(\"span\", class_=\"runtime\").text[:-4])\n",
        "\t\t\texcept:\n",
        "\t\t\t\tmovieRunTime.append(np.nan)\n",
        "\n",
        "\t\t\ttry:\n",
        "\t\t\t\tmovieGenre.append(movie.find(\"span\", class_=\"genre\").text.rstrip().replace(\"\\n\",\"\").split(\",\"))\n",
        "\t\t\texcept:\n",
        "\t\t\t\tmovieGenre.append(np.nan)\n",
        "\n",
        "\t\t\ttry:\n",
        "\t\t\t\tmovieRating.append(movie.find(\"strong\").text)\n",
        "\t\t\texcept:\n",
        "\t\t\t\tmovieRating.append(np.nan)\n",
        "\t\t\t\n",
        "\t\t\ttry:\n",
        "\t\t\t\tmovieScore.append(movie.find(\"span\", class_=\"metascore unfavorable\").text.rstrip())\n",
        "\t\t\texcept:\n",
        "\t\t\t\tmovieScore.append(np.nan)\n",
        "\t\t\t\n",
        "\t\t\tmovieDescription.append(movie.find_all(\"p\", class_=\"text-muted\")[-1].text.lstrip())\n",
        "\t\t\t\n",
        "\t\t\tmovieCast = movie.find(\"p\", class_=\"\")\n",
        "\t\t\ttry:\n",
        "\t\t\t\tcasts = movieCast.text.replace(\"\\n\",\"\").split('|')\n",
        "\t\t\t\tcasts = [x.strip() for x in casts]\n",
        "\t\t\t\tcasts = [casts[i].replace(j, \"\") for i,j in enumerate([\"Director:\", \"Stars:\"])]\n",
        "\t\t\t\tmovieDirector.append(casts[0])\n",
        "\t\t\t\tmovieStars.append([x.strip() for x in casts[1].split(\",\")])\n",
        "\t\t\texcept:\n",
        "\t\t\t\tcasts = movieCast.text.replace(\"\\n\",\"\").strip()\n",
        "\t\t\t\tmovieDirector.append(np.nan)\n",
        "\t\t\t\tmovieStars.append([x.strip() for x in casts.split(\",\")])\n",
        "\n",
        "\t\t\tmovieNumbers = movie.find_all(\"span\", attrs={\"name\": \"nv\"})\n",
        "\n",
        "\t\t\tif len(movieNumbers) == 2:\n",
        "\t\t\t\tmovieVotes.append(movieNumbers[0].text)\n",
        "\t\t\t\tmovieGross.append(movieNumbers[1].text)\n",
        "\t\t\telif len(movieNumbers) == 1:\n",
        "\t\t\t\tmovieVotes.append(movieNumbers[0].text)\n",
        "\t\t\t\tmovieGross.append(np.nan)\n",
        "\t\t\telse:\n",
        "\t\t\t\tmovieVotes.append(np.nan)\n",
        "\t\t\t\tmovieGross.append(np.nan)\n",
        "\n",
        "\t\tmovieData = [movieTitle, movieDate, movieRunTime, movieGenre, movieRating, movieScore, movieDescription, movieDirector, movieStars,movieVotes, movieGross]\n",
        "\t\treturn movieData"
      ],
      "execution_count": null,
      "outputs": [
        {
          "output_type": "display_data",
          "data": {
            "text/html": [
              "<style scoped>\n",
              "  .ansiout {\n",
              "    display: block;\n",
              "    unicode-bidi: embed;\n",
              "    white-space: pre-wrap;\n",
              "    word-wrap: break-word;\n",
              "    word-break: break-all;\n",
              "    font-family: \"Source Code Pro\", \"Menlo\", monospace;;\n",
              "    font-size: 13px;\n",
              "    color: #555;\n",
              "    margin-left: 4px;\n",
              "    line-height: 19px;\n",
              "  }\n",
              "</style>\n",
              "<div class=\"ansiout\"></div>"
            ]
          },
          "metadata": {
            "tags": [],
            "application/vnd.databricks.v1+output": {
              "datasetInfos": [],
              "data": "<div class=\"ansiout\"></div>",
              "removedWidgets": [],
              "addedWidgets": {},
              "type": "html",
              "arguments": {}
            }
          }
        }
      ]
    },
    {
      "cell_type": "code",
      "metadata": {
        "application/vnd.databricks.v1+cell": {
          "title": "",
          "showTitle": false,
          "inputWidgets": {},
          "nuid": "b1337652-6873-4432-be13-5fd0d6551dd7"
        },
        "id": "X9aAAkzVxQ7F",
        "outputId": "53ffde96-11c9-4fe5-dcf5-d54a86f3893f"
      },
      "source": [
        "if __name__ == '__main__':\n",
        "\tmovies_df = pd.DataFrame()\n",
        "\tfor i in range(n):  # <------ Número de páginas (n)\n",
        "\t\turl = url_list[i]\n",
        "\t\tsite = IMDB(url)\n",
        "\t\tdata = site.movieData()\n",
        "\t\tdf = pd.DataFrame(data)\t\n",
        "\t\tdf = df.transpose()\n",
        "\t\tmovies_df = movies_df.append(df, ignore_index=True)\n",
        "\tcolumns = ['movietitle', 'moviedate', 'movieruntime', 'moviegenre', 'movierating', 'moviescore', 'moviedescription', 'moviedirector', 'moviestars', 'movievotes', 'moviegross']\n",
        "\tmovies_df.columns = columns"
      ],
      "execution_count": null,
      "outputs": [
        {
          "output_type": "display_data",
          "data": {
            "text/html": [
              "<style scoped>\n",
              "  .ansiout {\n",
              "    display: block;\n",
              "    unicode-bidi: embed;\n",
              "    white-space: pre-wrap;\n",
              "    word-wrap: break-word;\n",
              "    word-break: break-all;\n",
              "    font-family: \"Source Code Pro\", \"Menlo\", monospace;;\n",
              "    font-size: 13px;\n",
              "    color: #555;\n",
              "    margin-left: 4px;\n",
              "    line-height: 19px;\n",
              "  }\n",
              "</style>\n",
              "<div class=\"ansiout\"></div>"
            ]
          },
          "metadata": {
            "tags": [],
            "application/vnd.databricks.v1+output": {
              "datasetInfos": [],
              "data": "<div class=\"ansiout\"></div>",
              "removedWidgets": [],
              "addedWidgets": {},
              "type": "html",
              "arguments": {}
            }
          }
        }
      ]
    },
    {
      "cell_type": "markdown",
      "metadata": {
        "application/vnd.databricks.v1+cell": {
          "title": "",
          "showTitle": false,
          "inputWidgets": {},
          "nuid": "7f53df5b-dc6a-4b28-a5ae-7b06172ddaea"
        },
        "id": "8JTteBUcxQ7F"
      },
      "source": [
        "#### Salvar o dataframe sem tratamento dos dados em arquivo .csv"
      ]
    },
    {
      "cell_type": "code",
      "metadata": {
        "application/vnd.databricks.v1+cell": {
          "title": "",
          "showTitle": false,
          "inputWidgets": {},
          "nuid": "e73dbd61-f4e8-49f7-9190-450554d42135"
        },
        "id": "zJlS3s_YxQ7F",
        "outputId": "cd92c564-92b2-4779-dbfd-bf3595352a7d"
      },
      "source": [
        "compression_opts = dict(method='zip', archive_name='Movies_Raw.csv')\n",
        "movies_df.to_csv('Movies_Raw.zip', index=True, compression=compression_opts, encoding='windows-1252')"
      ],
      "execution_count": null,
      "outputs": [
        {
          "output_type": "display_data",
          "data": {
            "text/html": [
              "<style scoped>\n",
              "  .ansiout {\n",
              "    display: block;\n",
              "    unicode-bidi: embed;\n",
              "    white-space: pre-wrap;\n",
              "    word-wrap: break-word;\n",
              "    word-break: break-all;\n",
              "    font-family: \"Source Code Pro\", \"Menlo\", monospace;;\n",
              "    font-size: 13px;\n",
              "    color: #555;\n",
              "    margin-left: 4px;\n",
              "    line-height: 19px;\n",
              "  }\n",
              "</style>\n",
              "<div class=\"ansiout\"></div>"
            ]
          },
          "metadata": {
            "tags": [],
            "application/vnd.databricks.v1+output": {
              "datasetInfos": [],
              "data": "<div class=\"ansiout\"></div>",
              "removedWidgets": [],
              "addedWidgets": {},
              "type": "html",
              "arguments": {}
            }
          }
        }
      ]
    },
    {
      "cell_type": "code",
      "metadata": {
        "application/vnd.databricks.v1+cell": {
          "title": "",
          "showTitle": false,
          "inputWidgets": {},
          "nuid": "33eddec8-9e47-4abd-8067-8497c3e6bf4e"
        },
        "id": "TSmtqLEMxQ7G",
        "outputId": "91d3dd69-278a-4570-f7a4-2ed36391d028"
      },
      "source": [
        "movies_df.tail(10)"
      ],
      "execution_count": null,
      "outputs": [
        {
          "output_type": "display_data",
          "data": {
            "text/html": [
              "<style scoped>\n",
              "  .ansiout {\n",
              "    display: block;\n",
              "    unicode-bidi: embed;\n",
              "    white-space: pre-wrap;\n",
              "    word-wrap: break-word;\n",
              "    word-break: break-all;\n",
              "    font-family: \"Source Code Pro\", \"Menlo\", monospace;;\n",
              "    font-size: 13px;\n",
              "    color: #555;\n",
              "    margin-left: 4px;\n",
              "    line-height: 19px;\n",
              "  }\n",
              "</style>\n",
              "<div class=\"ansiout\">Out[49]: </div>"
            ]
          },
          "metadata": {
            "tags": [],
            "application/vnd.databricks.v1+output": {
              "datasetInfos": [],
              "data": "<div class=\"ansiout\">Out[49]: </div>",
              "removedWidgets": [],
              "addedWidgets": {},
              "type": "html",
              "arguments": {}
            }
          }
        },
        {
          "output_type": "display_data",
          "data": {
            "text/html": [
              "<div>\n",
              "<style scoped>\n",
              "    .dataframe tbody tr th:only-of-type {\n",
              "        vertical-align: middle;\n",
              "    }\n",
              "\n",
              "    .dataframe tbody tr th {\n",
              "        vertical-align: top;\n",
              "    }\n",
              "\n",
              "    .dataframe thead th {\n",
              "        text-align: right;\n",
              "    }\n",
              "</style>\n",
              "<table border=\"1\" class=\"dataframe\">\n",
              "  <thead>\n",
              "    <tr style=\"text-align: right;\">\n",
              "      <th></th>\n",
              "      <th>movietitle</th>\n",
              "      <th>moviedate</th>\n",
              "      <th>movieruntime</th>\n",
              "      <th>moviegenre</th>\n",
              "      <th>movierating</th>\n",
              "      <th>moviescore</th>\n",
              "      <th>moviedescription</th>\n",
              "      <th>moviedirector</th>\n",
              "      <th>moviestars</th>\n",
              "      <th>movievotes</th>\n",
              "      <th>moviegross</th>\n",
              "    </tr>\n",
              "  </thead>\n",
              "  <tbody>\n",
              "    <tr>\n",
              "      <th>9990</th>\n",
              "      <td>The Hardy Boys/Nancy Drew Mysteries</td>\n",
              "      <td>1977–1979</td>\n",
              "      <td>60</td>\n",
              "      <td>[Family,  Mystery]</td>\n",
              "      <td>7.5</td>\n",
              "      <td>NaN</td>\n",
              "      <td>The cases of a pair of teen detective brothers...</td>\n",
              "      <td>NaN</td>\n",
              "      <td>[Stars:Shaun Cassidy, Parker Stevenson, Pamela...</td>\n",
              "      <td>1,362</td>\n",
              "      <td>NaN</td>\n",
              "    </tr>\n",
              "    <tr>\n",
              "      <th>9991</th>\n",
              "      <td>Oh, Ramona!</td>\n",
              "      <td>2019</td>\n",
              "      <td>109</td>\n",
              "      <td>[Comedy,  Romance]</td>\n",
              "      <td>4.9</td>\n",
              "      <td>NaN</td>\n",
              "      <td>A teenager named Andrei transitions from a tee...</td>\n",
              "      <td>Cristina Jacob</td>\n",
              "      <td>[Basil Eidenbenz, Aggy K. Adams, Adina Stetcu,...</td>\n",
              "      <td>8,017</td>\n",
              "      <td>NaN</td>\n",
              "    </tr>\n",
              "    <tr>\n",
              "      <th>9992</th>\n",
              "      <td>Crikey! It's the Irwins</td>\n",
              "      <td>2018–</td>\n",
              "      <td>NaN</td>\n",
              "      <td>[Documentary]</td>\n",
              "      <td>8.3</td>\n",
              "      <td>NaN</td>\n",
              "      <td>The Irwin family share their wildlife adventur...</td>\n",
              "      <td>NaN</td>\n",
              "      <td>[Stars:Terri Irwin, Bindi Irwin, Robert Claren...</td>\n",
              "      <td>474</td>\n",
              "      <td>NaN</td>\n",
              "    </tr>\n",
              "    <tr>\n",
              "      <th>9993</th>\n",
              "      <td>Voice</td>\n",
              "      <td>2017–2021</td>\n",
              "      <td>60</td>\n",
              "      <td>[Action,  Crime,  Mystery]</td>\n",
              "      <td>7.7</td>\n",
              "      <td>NaN</td>\n",
              "      <td>Moo Jin-Hyuk (Jang Hyuk) was a popular detecti...</td>\n",
              "      <td>NaN</td>\n",
              "      <td>[Stars:Lee Hana, Eun-seo Son, Jin-wook Lee, Ki...</td>\n",
              "      <td>1,203</td>\n",
              "      <td>NaN</td>\n",
              "    </tr>\n",
              "    <tr>\n",
              "      <th>9994</th>\n",
              "      <td>Inferno</td>\n",
              "      <td>1980</td>\n",
              "      <td>106</td>\n",
              "      <td>[Horror]</td>\n",
              "      <td>6.6</td>\n",
              "      <td>NaN</td>\n",
              "      <td>An American college student in Rome and his si...</td>\n",
              "      <td>Dario Argento</td>\n",
              "      <td>[Leigh McCloskey, Irene Miracle, Eleonora Gior...</td>\n",
              "      <td>18,864</td>\n",
              "      <td>NaN</td>\n",
              "    </tr>\n",
              "    <tr>\n",
              "      <th>9995</th>\n",
              "      <td>Operation Condor</td>\n",
              "      <td>1991</td>\n",
              "      <td>80</td>\n",
              "      <td>[Action,  Adventure,  Comedy]</td>\n",
              "      <td>7.3</td>\n",
              "      <td>NaN</td>\n",
              "      <td>Jackie is hired to help the UN find Nazi gold ...</td>\n",
              "      <td>Jackie Chan</td>\n",
              "      <td>[Jackie Chan, Carol 'Do Do' Cheng, Eva Cobo, S...</td>\n",
              "      <td>18,816</td>\n",
              "      <td>$10.44M</td>\n",
              "    </tr>\n",
              "    <tr>\n",
              "      <th>9996</th>\n",
              "      <td>The Humanity Bureau</td>\n",
              "      <td>2017</td>\n",
              "      <td>95</td>\n",
              "      <td>[Action,  Sci-Fi,  Thriller]</td>\n",
              "      <td>4.7</td>\n",
              "      <td>NaN</td>\n",
              "      <td>A dystopian thriller set in the year 2030 that...</td>\n",
              "      <td>Rob W. King</td>\n",
              "      <td>[Nicolas Cage, Sarah Lind, Jakob Davies, Hugh ...</td>\n",
              "      <td>7,422</td>\n",
              "      <td>NaN</td>\n",
              "    </tr>\n",
              "    <tr>\n",
              "      <th>9997</th>\n",
              "      <td>Chicken Girls</td>\n",
              "      <td>2017–</td>\n",
              "      <td>7</td>\n",
              "      <td>[Comedy,  Drama,  Family]</td>\n",
              "      <td>6.7</td>\n",
              "      <td>NaN</td>\n",
              "      <td>Rhyme and her friends - known by the name \"The...</td>\n",
              "      <td>NaN</td>\n",
              "      <td>[Stars:Jules LeBlanc, Brooke Elizabeth Butler,...</td>\n",
              "      <td>537</td>\n",
              "      <td>NaN</td>\n",
              "    </tr>\n",
              "    <tr>\n",
              "      <th>9998</th>\n",
              "      <td>Zombie Spring Breakers</td>\n",
              "      <td>2016</td>\n",
              "      <td>95</td>\n",
              "      <td>[Action,  Comedy,  Horror]</td>\n",
              "      <td>3.2</td>\n",
              "      <td>NaN</td>\n",
              "      <td>A group of young people head to Ibiza for the ...</td>\n",
              "      <td>Andy Edwards</td>\n",
              "      <td>[Marcia Do Vales, Matt King, Seb Castang, Simo...</td>\n",
              "      <td>787</td>\n",
              "      <td>NaN</td>\n",
              "    </tr>\n",
              "    <tr>\n",
              "      <th>9999</th>\n",
              "      <td>Accidental Love</td>\n",
              "      <td>2015</td>\n",
              "      <td>100</td>\n",
              "      <td>[Comedy,  Romance]</td>\n",
              "      <td>4.1</td>\n",
              "      <td>20</td>\n",
              "      <td>A small town waitress gets a nail accidentally...</td>\n",
              "      <td>David O. Russell</td>\n",
              "      <td>[Jessica Biel, Raymond L. Brown Jr., Jenny Gul...</td>\n",
              "      <td>7,852</td>\n",
              "      <td>NaN</td>\n",
              "    </tr>\n",
              "  </tbody>\n",
              "</table>\n",
              "</div>"
            ]
          },
          "metadata": {
            "tags": [],
            "application/vnd.databricks.v1+output": {
              "datasetInfos": [],
              "data": "<div>\n<style scoped>\n    .dataframe tbody tr th:only-of-type {\n        vertical-align: middle;\n    }\n\n    .dataframe tbody tr th {\n        vertical-align: top;\n    }\n\n    .dataframe thead th {\n        text-align: right;\n    }\n</style>\n<table border=\"1\" class=\"dataframe\">\n  <thead>\n    <tr style=\"text-align: right;\">\n      <th></th>\n      <th>movietitle</th>\n      <th>moviedate</th>\n      <th>movieruntime</th>\n      <th>moviegenre</th>\n      <th>movierating</th>\n      <th>moviescore</th>\n      <th>moviedescription</th>\n      <th>moviedirector</th>\n      <th>moviestars</th>\n      <th>movievotes</th>\n      <th>moviegross</th>\n    </tr>\n  </thead>\n  <tbody>\n    <tr>\n      <th>9990</th>\n      <td>The Hardy Boys/Nancy Drew Mysteries</td>\n      <td>1977–1979</td>\n      <td>60</td>\n      <td>[Family,  Mystery]</td>\n      <td>7.5</td>\n      <td>NaN</td>\n      <td>The cases of a pair of teen detective brothers...</td>\n      <td>NaN</td>\n      <td>[Stars:Shaun Cassidy, Parker Stevenson, Pamela...</td>\n      <td>1,362</td>\n      <td>NaN</td>\n    </tr>\n    <tr>\n      <th>9991</th>\n      <td>Oh, Ramona!</td>\n      <td>2019</td>\n      <td>109</td>\n      <td>[Comedy,  Romance]</td>\n      <td>4.9</td>\n      <td>NaN</td>\n      <td>A teenager named Andrei transitions from a tee...</td>\n      <td>Cristina Jacob</td>\n      <td>[Basil Eidenbenz, Aggy K. Adams, Adina Stetcu,...</td>\n      <td>8,017</td>\n      <td>NaN</td>\n    </tr>\n    <tr>\n      <th>9992</th>\n      <td>Crikey! It's the Irwins</td>\n      <td>2018–</td>\n      <td>NaN</td>\n      <td>[Documentary]</td>\n      <td>8.3</td>\n      <td>NaN</td>\n      <td>The Irwin family share their wildlife adventur...</td>\n      <td>NaN</td>\n      <td>[Stars:Terri Irwin, Bindi Irwin, Robert Claren...</td>\n      <td>474</td>\n      <td>NaN</td>\n    </tr>\n    <tr>\n      <th>9993</th>\n      <td>Voice</td>\n      <td>2017–2021</td>\n      <td>60</td>\n      <td>[Action,  Crime,  Mystery]</td>\n      <td>7.7</td>\n      <td>NaN</td>\n      <td>Moo Jin-Hyuk (Jang Hyuk) was a popular detecti...</td>\n      <td>NaN</td>\n      <td>[Stars:Lee Hana, Eun-seo Son, Jin-wook Lee, Ki...</td>\n      <td>1,203</td>\n      <td>NaN</td>\n    </tr>\n    <tr>\n      <th>9994</th>\n      <td>Inferno</td>\n      <td>1980</td>\n      <td>106</td>\n      <td>[Horror]</td>\n      <td>6.6</td>\n      <td>NaN</td>\n      <td>An American college student in Rome and his si...</td>\n      <td>Dario Argento</td>\n      <td>[Leigh McCloskey, Irene Miracle, Eleonora Gior...</td>\n      <td>18,864</td>\n      <td>NaN</td>\n    </tr>\n    <tr>\n      <th>9995</th>\n      <td>Operation Condor</td>\n      <td>1991</td>\n      <td>80</td>\n      <td>[Action,  Adventure,  Comedy]</td>\n      <td>7.3</td>\n      <td>NaN</td>\n      <td>Jackie is hired to help the UN find Nazi gold ...</td>\n      <td>Jackie Chan</td>\n      <td>[Jackie Chan, Carol 'Do Do' Cheng, Eva Cobo, S...</td>\n      <td>18,816</td>\n      <td>$10.44M</td>\n    </tr>\n    <tr>\n      <th>9996</th>\n      <td>The Humanity Bureau</td>\n      <td>2017</td>\n      <td>95</td>\n      <td>[Action,  Sci-Fi,  Thriller]</td>\n      <td>4.7</td>\n      <td>NaN</td>\n      <td>A dystopian thriller set in the year 2030 that...</td>\n      <td>Rob W. King</td>\n      <td>[Nicolas Cage, Sarah Lind, Jakob Davies, Hugh ...</td>\n      <td>7,422</td>\n      <td>NaN</td>\n    </tr>\n    <tr>\n      <th>9997</th>\n      <td>Chicken Girls</td>\n      <td>2017–</td>\n      <td>7</td>\n      <td>[Comedy,  Drama,  Family]</td>\n      <td>6.7</td>\n      <td>NaN</td>\n      <td>Rhyme and her friends - known by the name \"The...</td>\n      <td>NaN</td>\n      <td>[Stars:Jules LeBlanc, Brooke Elizabeth Butler,...</td>\n      <td>537</td>\n      <td>NaN</td>\n    </tr>\n    <tr>\n      <th>9998</th>\n      <td>Zombie Spring Breakers</td>\n      <td>2016</td>\n      <td>95</td>\n      <td>[Action,  Comedy,  Horror]</td>\n      <td>3.2</td>\n      <td>NaN</td>\n      <td>A group of young people head to Ibiza for the ...</td>\n      <td>Andy Edwards</td>\n      <td>[Marcia Do Vales, Matt King, Seb Castang, Simo...</td>\n      <td>787</td>\n      <td>NaN</td>\n    </tr>\n    <tr>\n      <th>9999</th>\n      <td>Accidental Love</td>\n      <td>2015</td>\n      <td>100</td>\n      <td>[Comedy,  Romance]</td>\n      <td>4.1</td>\n      <td>20</td>\n      <td>A small town waitress gets a nail accidentally...</td>\n      <td>David O. Russell</td>\n      <td>[Jessica Biel, Raymond L. Brown Jr., Jenny Gul...</td>\n      <td>7,852</td>\n      <td>NaN</td>\n    </tr>\n  </tbody>\n</table>\n</div>",
              "textData": null,
              "removedWidgets": [],
              "addedWidgets": {},
              "type": "htmlSandbox",
              "arguments": {}
            }
          }
        }
      ]
    },
    {
      "cell_type": "markdown",
      "metadata": {
        "application/vnd.databricks.v1+cell": {
          "title": "",
          "showTitle": false,
          "inputWidgets": {},
          "nuid": "a423d7a6-20de-4a04-adc2-7fe9e85a8da0"
        },
        "id": "39vgq5Z0xQ7G"
      },
      "source": [
        "## 3 - Pré-processamento do texto"
      ]
    },
    {
      "cell_type": "code",
      "metadata": {
        "application/vnd.databricks.v1+cell": {
          "title": "",
          "showTitle": false,
          "inputWidgets": {},
          "nuid": "8065129f-2125-499b-8c0d-121514594bce"
        },
        "id": "A3qRneG0xQ7G",
        "outputId": "a3a350b3-d12a-4c7d-d4d1-f1b45f9b999b"
      },
      "source": [
        "movies_df.dropna(subset=['moviegenre','moviedate'],inplace=True)"
      ],
      "execution_count": null,
      "outputs": [
        {
          "output_type": "display_data",
          "data": {
            "text/html": [
              "<style scoped>\n",
              "  .ansiout {\n",
              "    display: block;\n",
              "    unicode-bidi: embed;\n",
              "    white-space: pre-wrap;\n",
              "    word-wrap: break-word;\n",
              "    word-break: break-all;\n",
              "    font-family: \"Source Code Pro\", \"Menlo\", monospace;;\n",
              "    font-size: 13px;\n",
              "    color: #555;\n",
              "    margin-left: 4px;\n",
              "    line-height: 19px;\n",
              "  }\n",
              "</style>\n",
              "<div class=\"ansiout\"></div>"
            ]
          },
          "metadata": {
            "tags": [],
            "application/vnd.databricks.v1+output": {
              "datasetInfos": [],
              "data": "<div class=\"ansiout\"></div>",
              "removedWidgets": [],
              "addedWidgets": {},
              "type": "html",
              "arguments": {}
            }
          }
        }
      ]
    },
    {
      "cell_type": "markdown",
      "metadata": {
        "application/vnd.databricks.v1+cell": {
          "title": "",
          "showTitle": false,
          "inputWidgets": {},
          "nuid": "5638db91-3b54-4bfc-9a9e-1f17298973b3"
        },
        "id": "RwlXJ4FjxQ7H"
      },
      "source": [
        "### Transformar a coluna moviestars string única"
      ]
    },
    {
      "cell_type": "code",
      "metadata": {
        "application/vnd.databricks.v1+cell": {
          "title": "",
          "showTitle": false,
          "inputWidgets": {},
          "nuid": "0c824b47-0dd7-44dd-ba0d-5139e5a02c22"
        },
        "id": "btOee2FhxQ7H",
        "outputId": "6b1f636c-9421-43e6-f948-95479436ffa8"
      },
      "source": [
        "movie_stars = []\n",
        "for row in movies_df.moviestars:\n",
        "  stars_list = []\n",
        "  if isinstance(row, typing.List):\n",
        "    for name in row:\n",
        "      stars = name.replace('Stars:','')\n",
        "      stars_list.append(stars)\n",
        "    row = ', '.join(stars_list)\n",
        "    movie_stars.append(row)\n",
        "  else:\n",
        "    movie_stars.append(row)\n",
        "movies_df.drop('moviestars', axis = 1, inplace=True)\n",
        "movies_df.insert(len(movies_df.columns), 'moviestars', movie_stars)"
      ],
      "execution_count": null,
      "outputs": [
        {
          "output_type": "display_data",
          "data": {
            "text/html": [
              "<style scoped>\n",
              "  .ansiout {\n",
              "    display: block;\n",
              "    unicode-bidi: embed;\n",
              "    white-space: pre-wrap;\n",
              "    word-wrap: break-word;\n",
              "    word-break: break-all;\n",
              "    font-family: \"Source Code Pro\", \"Menlo\", monospace;;\n",
              "    font-size: 13px;\n",
              "    color: #555;\n",
              "    margin-left: 4px;\n",
              "    line-height: 19px;\n",
              "  }\n",
              "</style>\n",
              "<div class=\"ansiout\"></div>"
            ]
          },
          "metadata": {
            "tags": [],
            "application/vnd.databricks.v1+output": {
              "datasetInfos": [],
              "data": "<div class=\"ansiout\"></div>",
              "removedWidgets": [],
              "addedWidgets": {},
              "type": "html",
              "arguments": {}
            }
          }
        }
      ]
    },
    {
      "cell_type": "markdown",
      "metadata": {
        "application/vnd.databricks.v1+cell": {
          "title": "",
          "showTitle": false,
          "inputWidgets": {},
          "nuid": "6c200b5c-707a-4aa5-bbe3-4283bf1a82da"
        },
        "id": "G0Y8CkA3xQ7H"
      },
      "source": [
        "### Transformar a coluna moviegenre em string única e criar coluna dommoviegenre"
      ]
    },
    {
      "cell_type": "code",
      "metadata": {
        "application/vnd.databricks.v1+cell": {
          "title": "",
          "showTitle": false,
          "inputWidgets": {},
          "nuid": "a70a44fa-db08-4637-a360-ffe8eb3902e6"
        },
        "id": "-beHBIk1xQ7H",
        "outputId": "8c393c2a-6d12-4b97-bd0b-6f588f384e89"
      },
      "source": [
        "movie_genre = []\n",
        "dom_movie_genre = []\n",
        "i = 0\n",
        "for row in movies_df.moviegenre:\n",
        "  genre_list = []\n",
        "  if isinstance(row, typing.List):\n",
        "    for genre in row:\n",
        "      genre_list.append(genre)\n",
        "      row = ', '.join(genre_list)\n",
        "    movie_genre.append(row)\n",
        "    dom_movie_genre.append(genre_list[0])\n",
        "  else:\n",
        "    movie_genre.append(row)\n",
        "    dom_movie_genre.append(row)\n",
        "  i+=1  \n",
        "movies_df.drop('moviegenre', axis = 1, inplace=True)\n",
        "movies_df.insert(len(movies_df.columns), 'moviegenre', movie_genre)\n",
        "movies_df.insert(len(movies_df.columns), 'dommoviegenre', dom_movie_genre)"
      ],
      "execution_count": null,
      "outputs": [
        {
          "output_type": "display_data",
          "data": {
            "text/html": [
              "<style scoped>\n",
              "  .ansiout {\n",
              "    display: block;\n",
              "    unicode-bidi: embed;\n",
              "    white-space: pre-wrap;\n",
              "    word-wrap: break-word;\n",
              "    word-break: break-all;\n",
              "    font-family: \"Source Code Pro\", \"Menlo\", monospace;;\n",
              "    font-size: 13px;\n",
              "    color: #555;\n",
              "    margin-left: 4px;\n",
              "    line-height: 19px;\n",
              "  }\n",
              "</style>\n",
              "<div class=\"ansiout\"></div>"
            ]
          },
          "metadata": {
            "tags": [],
            "application/vnd.databricks.v1+output": {
              "datasetInfos": [],
              "data": "<div class=\"ansiout\"></div>",
              "removedWidgets": [],
              "addedWidgets": {},
              "type": "html",
              "arguments": {}
            }
          }
        }
      ]
    },
    {
      "cell_type": "markdown",
      "metadata": {
        "application/vnd.databricks.v1+cell": {
          "title": "",
          "showTitle": false,
          "inputWidgets": {},
          "nuid": "6f38c12c-b8e1-4f58-890d-a522b9fa3164"
        },
        "id": "Hef9pqqrxQ7I"
      },
      "source": [
        "###  Limpar coluna moviedate e criar coluna moviefirstrun"
      ]
    },
    {
      "cell_type": "code",
      "metadata": {
        "application/vnd.databricks.v1+cell": {
          "title": "",
          "showTitle": false,
          "inputWidgets": {},
          "nuid": "c9c1e395-ee73-4078-9e23-204ba4f4c1b0"
        },
        "id": "O-4IgnYoxQ7I",
        "outputId": "3df6a2d8-8bd2-492f-8294-b83ab9bc233e"
      },
      "source": [
        "movie_dates = []\n",
        "movie_firstrun = []\n",
        "for row in movies_df.moviedate:\n",
        "  dates = []\n",
        "  dates = re.findall(r'-?\\d+\\.?\\d*', row)\n",
        "  if dates == []:\n",
        "    movie_firstrun.append(float(\"NAN\"))\n",
        "    movie_dates.append(float(\"NAN\"))\n",
        "  else:\n",
        "    movie_dates.append(' - '.join(dates))\n",
        "    movie_firstrun.append(dates[0])\n",
        "    \n",
        "movies_df.drop('moviedate', axis = 1, inplace=True)\n",
        "movies_df.insert(len(movies_df.columns), 'moviedate', movie_dates)   \n",
        "movies_df.insert(len(movies_df.columns), 'moviefirstrun', movie_firstrun)    \n",
        "    \n",
        "    \n",
        "movies_df.dropna(subset=['moviefirstrun','moviedate'],inplace=True)"
      ],
      "execution_count": null,
      "outputs": [
        {
          "output_type": "display_data",
          "data": {
            "text/html": [
              "<style scoped>\n",
              "  .ansiout {\n",
              "    display: block;\n",
              "    unicode-bidi: embed;\n",
              "    white-space: pre-wrap;\n",
              "    word-wrap: break-word;\n",
              "    word-break: break-all;\n",
              "    font-family: \"Source Code Pro\", \"Menlo\", monospace;;\n",
              "    font-size: 13px;\n",
              "    color: #555;\n",
              "    margin-left: 4px;\n",
              "    line-height: 19px;\n",
              "  }\n",
              "</style>\n",
              "<div class=\"ansiout\"></div>"
            ]
          },
          "metadata": {
            "tags": [],
            "application/vnd.databricks.v1+output": {
              "datasetInfos": [],
              "data": "<div class=\"ansiout\"></div>",
              "removedWidgets": [],
              "addedWidgets": {},
              "type": "html",
              "arguments": {}
            }
          }
        }
      ]
    },
    {
      "cell_type": "markdown",
      "metadata": {
        "application/vnd.databricks.v1+cell": {
          "title": "",
          "showTitle": false,
          "inputWidgets": {},
          "nuid": "86876235-8b0d-4063-b09c-ba7f89823052"
        },
        "id": "-D7WGkuIxQ7I"
      },
      "source": [
        "### Limpar colunas moviegross, movievotes e moviedirector"
      ]
    },
    {
      "cell_type": "code",
      "metadata": {
        "application/vnd.databricks.v1+cell": {
          "title": "",
          "showTitle": false,
          "inputWidgets": {},
          "nuid": "5dc62350-b5f7-46f5-9c81-98f746ba8289"
        },
        "id": "XXNXm0y_xQ7J",
        "outputId": "eea57bcd-80de-4e03-c74d-caaa7175fa9d"
      },
      "source": [
        "# Transformar a coluna moviegross em numérica\n",
        "\n",
        "  # Remove o caracter '.'\n",
        "movies_df.moviegross = movies_df.moviegross.apply(punc_re)\n",
        "\n",
        "  # Remove os caracteres não numéricos e multiplica valores não NaN por 1000\n",
        "movie_gross = []\n",
        "for row in movies_df.moviegross:\n",
        "  gross = []\n",
        "  gross = re.findall(r'-?\\d+\\.?\\d*', row)\n",
        "  if gross == []:\n",
        "    movie_gross.append(float(\"NAN\"))\n",
        "  else:\n",
        "    for item in gross:\n",
        "      movie_gross.append(int(item)*1000)\n",
        "      \n",
        "movies_df.drop('moviegross', axis = 1, inplace=True)\n",
        "movies_df.insert(len(movies_df.columns), 'moviegross', movie_gross)       "
      ],
      "execution_count": null,
      "outputs": [
        {
          "output_type": "display_data",
          "data": {
            "text/html": [
              "<style scoped>\n",
              "  .ansiout {\n",
              "    display: block;\n",
              "    unicode-bidi: embed;\n",
              "    white-space: pre-wrap;\n",
              "    word-wrap: break-word;\n",
              "    word-break: break-all;\n",
              "    font-family: \"Source Code Pro\", \"Menlo\", monospace;;\n",
              "    font-size: 13px;\n",
              "    color: #555;\n",
              "    margin-left: 4px;\n",
              "    line-height: 19px;\n",
              "  }\n",
              "</style>\n",
              "<div class=\"ansiout\"></div>"
            ]
          },
          "metadata": {
            "tags": [],
            "application/vnd.databricks.v1+output": {
              "datasetInfos": [],
              "data": "<div class=\"ansiout\"></div>",
              "removedWidgets": [],
              "addedWidgets": {},
              "type": "html",
              "arguments": {}
            }
          }
        }
      ]
    },
    {
      "cell_type": "code",
      "metadata": {
        "application/vnd.databricks.v1+cell": {
          "title": "",
          "showTitle": false,
          "inputWidgets": {},
          "nuid": "3fefc72a-4a87-4687-aa9a-d33a16be680f"
        },
        "id": "ri8mrQAqxQ7J",
        "outputId": "d1cd68c4-2f60-423d-b0a5-f754831bac63"
      },
      "source": [
        "# Remove caracter ',' da coluna movievotes\n",
        "movies_df.movievotes = movies_df.movievotes.replace(',', '',regex=True)"
      ],
      "execution_count": null,
      "outputs": [
        {
          "output_type": "display_data",
          "data": {
            "text/html": [
              "<style scoped>\n",
              "  .ansiout {\n",
              "    display: block;\n",
              "    unicode-bidi: embed;\n",
              "    white-space: pre-wrap;\n",
              "    word-wrap: break-word;\n",
              "    word-break: break-all;\n",
              "    font-family: \"Source Code Pro\", \"Menlo\", monospace;;\n",
              "    font-size: 13px;\n",
              "    color: #555;\n",
              "    margin-left: 4px;\n",
              "    line-height: 19px;\n",
              "  }\n",
              "</style>\n",
              "<div class=\"ansiout\"></div>"
            ]
          },
          "metadata": {
            "tags": [],
            "application/vnd.databricks.v1+output": {
              "datasetInfos": [],
              "data": "<div class=\"ansiout\"></div>",
              "removedWidgets": [],
              "addedWidgets": {},
              "type": "html",
              "arguments": {}
            }
          }
        }
      ]
    },
    {
      "cell_type": "code",
      "metadata": {
        "application/vnd.databricks.v1+cell": {
          "title": "",
          "showTitle": false,
          "inputWidgets": {},
          "nuid": "261d515a-63ef-4be7-a3a9-da44c08e4652"
        },
        "id": "YO8iO8n0xQ7K",
        "outputId": "930b0813-2f56-4156-afec-01a6de06a0e6"
      },
      "source": [
        "# Remove string 'Directors:' da coluna moviedirector\n",
        "movies_df.moviedirector = movies_df.moviedirector.replace('Directors:', '',regex=True)"
      ],
      "execution_count": null,
      "outputs": [
        {
          "output_type": "display_data",
          "data": {
            "text/html": [
              "<style scoped>\n",
              "  .ansiout {\n",
              "    display: block;\n",
              "    unicode-bidi: embed;\n",
              "    white-space: pre-wrap;\n",
              "    word-wrap: break-word;\n",
              "    word-break: break-all;\n",
              "    font-family: \"Source Code Pro\", \"Menlo\", monospace;;\n",
              "    font-size: 13px;\n",
              "    color: #555;\n",
              "    margin-left: 4px;\n",
              "    line-height: 19px;\n",
              "  }\n",
              "</style>\n",
              "<div class=\"ansiout\"></div>"
            ]
          },
          "metadata": {
            "tags": [],
            "application/vnd.databricks.v1+output": {
              "datasetInfos": [],
              "data": "<div class=\"ansiout\"></div>",
              "removedWidgets": [],
              "addedWidgets": {},
              "type": "html",
              "arguments": {}
            }
          }
        }
      ]
    },
    {
      "cell_type": "code",
      "metadata": {
        "application/vnd.databricks.v1+cell": {
          "title": "",
          "showTitle": false,
          "inputWidgets": {},
          "nuid": "b77b20ce-a39a-4f2f-938c-ad264eddb8e7"
        },
        "id": "gUSAddOhxQ7K",
        "outputId": "742a3aae-9370-4b0d-8996-36b9a10231b2"
      },
      "source": [
        "movies_df.tail(10)"
      ],
      "execution_count": null,
      "outputs": [
        {
          "output_type": "display_data",
          "data": {
            "text/html": [
              "<style scoped>\n",
              "  .ansiout {\n",
              "    display: block;\n",
              "    unicode-bidi: embed;\n",
              "    white-space: pre-wrap;\n",
              "    word-wrap: break-word;\n",
              "    word-break: break-all;\n",
              "    font-family: \"Source Code Pro\", \"Menlo\", monospace;;\n",
              "    font-size: 13px;\n",
              "    color: #555;\n",
              "    margin-left: 4px;\n",
              "    line-height: 19px;\n",
              "  }\n",
              "</style>\n",
              "<div class=\"ansiout\">Out[57]: </div>"
            ]
          },
          "metadata": {
            "tags": [],
            "application/vnd.databricks.v1+output": {
              "datasetInfos": [],
              "data": "<div class=\"ansiout\">Out[57]: </div>",
              "removedWidgets": [],
              "addedWidgets": {},
              "type": "html",
              "arguments": {}
            }
          }
        },
        {
          "output_type": "display_data",
          "data": {
            "text/html": [
              "<div>\n",
              "<style scoped>\n",
              "    .dataframe tbody tr th:only-of-type {\n",
              "        vertical-align: middle;\n",
              "    }\n",
              "\n",
              "    .dataframe tbody tr th {\n",
              "        vertical-align: top;\n",
              "    }\n",
              "\n",
              "    .dataframe thead th {\n",
              "        text-align: right;\n",
              "    }\n",
              "</style>\n",
              "<table border=\"1\" class=\"dataframe\">\n",
              "  <thead>\n",
              "    <tr style=\"text-align: right;\">\n",
              "      <th></th>\n",
              "      <th>movietitle</th>\n",
              "      <th>movieruntime</th>\n",
              "      <th>movierating</th>\n",
              "      <th>moviescore</th>\n",
              "      <th>moviedescription</th>\n",
              "      <th>moviedirector</th>\n",
              "      <th>movievotes</th>\n",
              "      <th>moviestars</th>\n",
              "      <th>moviegenre</th>\n",
              "      <th>dommoviegenre</th>\n",
              "      <th>moviedate</th>\n",
              "      <th>moviefirstrun</th>\n",
              "      <th>moviegross</th>\n",
              "    </tr>\n",
              "  </thead>\n",
              "  <tbody>\n",
              "    <tr>\n",
              "      <th>9990</th>\n",
              "      <td>The Hardy Boys/Nancy Drew Mysteries</td>\n",
              "      <td>60</td>\n",
              "      <td>7.5</td>\n",
              "      <td>NaN</td>\n",
              "      <td>The cases of a pair of teen detective brothers...</td>\n",
              "      <td>NaN</td>\n",
              "      <td>1362</td>\n",
              "      <td>Shaun Cassidy, Parker Stevenson, Pamela Sue Ma...</td>\n",
              "      <td>Family,  Mystery</td>\n",
              "      <td>Family</td>\n",
              "      <td>1977 - 1979</td>\n",
              "      <td>1977</td>\n",
              "      <td>NaN</td>\n",
              "    </tr>\n",
              "    <tr>\n",
              "      <th>9991</th>\n",
              "      <td>Oh, Ramona!</td>\n",
              "      <td>109</td>\n",
              "      <td>4.9</td>\n",
              "      <td>NaN</td>\n",
              "      <td>A teenager named Andrei transitions from a tee...</td>\n",
              "      <td>Cristina Jacob</td>\n",
              "      <td>8017</td>\n",
              "      <td>Basil Eidenbenz, Aggy K. Adams, Adina Stetcu, ...</td>\n",
              "      <td>Comedy,  Romance</td>\n",
              "      <td>Comedy</td>\n",
              "      <td>2019</td>\n",
              "      <td>2019</td>\n",
              "      <td>NaN</td>\n",
              "    </tr>\n",
              "    <tr>\n",
              "      <th>9992</th>\n",
              "      <td>Crikey! It's the Irwins</td>\n",
              "      <td>NaN</td>\n",
              "      <td>8.3</td>\n",
              "      <td>NaN</td>\n",
              "      <td>The Irwin family share their wildlife adventur...</td>\n",
              "      <td>NaN</td>\n",
              "      <td>474</td>\n",
              "      <td>Terri Irwin, Bindi Irwin, Robert Clarence Irwi...</td>\n",
              "      <td>Documentary</td>\n",
              "      <td>Documentary</td>\n",
              "      <td>2018</td>\n",
              "      <td>2018</td>\n",
              "      <td>NaN</td>\n",
              "    </tr>\n",
              "    <tr>\n",
              "      <th>9993</th>\n",
              "      <td>Voice</td>\n",
              "      <td>60</td>\n",
              "      <td>7.7</td>\n",
              "      <td>NaN</td>\n",
              "      <td>Moo Jin-Hyuk (Jang Hyuk) was a popular detecti...</td>\n",
              "      <td>NaN</td>\n",
              "      <td>1203</td>\n",
              "      <td>Lee Hana, Eun-seo Son, Jin-wook Lee, Kim Woo-Seok</td>\n",
              "      <td>Action,  Crime,  Mystery</td>\n",
              "      <td>Action</td>\n",
              "      <td>2017 - 2021</td>\n",
              "      <td>2017</td>\n",
              "      <td>NaN</td>\n",
              "    </tr>\n",
              "    <tr>\n",
              "      <th>9994</th>\n",
              "      <td>Inferno</td>\n",
              "      <td>106</td>\n",
              "      <td>6.6</td>\n",
              "      <td>NaN</td>\n",
              "      <td>An American college student in Rome and his si...</td>\n",
              "      <td>Dario Argento</td>\n",
              "      <td>18864</td>\n",
              "      <td>Leigh McCloskey, Irene Miracle, Eleonora Giorg...</td>\n",
              "      <td>Horror</td>\n",
              "      <td>Horror</td>\n",
              "      <td>1980</td>\n",
              "      <td>1980</td>\n",
              "      <td>NaN</td>\n",
              "    </tr>\n",
              "    <tr>\n",
              "      <th>9995</th>\n",
              "      <td>Operation Condor</td>\n",
              "      <td>80</td>\n",
              "      <td>7.3</td>\n",
              "      <td>NaN</td>\n",
              "      <td>Jackie is hired to help the UN find Nazi gold ...</td>\n",
              "      <td>Jackie Chan</td>\n",
              "      <td>18816</td>\n",
              "      <td>Jackie Chan, Carol 'Do Do' Cheng, Eva Cobo, Sh...</td>\n",
              "      <td>Action,  Adventure,  Comedy</td>\n",
              "      <td>Action</td>\n",
              "      <td>1991</td>\n",
              "      <td>1991</td>\n",
              "      <td>1044000.0</td>\n",
              "    </tr>\n",
              "    <tr>\n",
              "      <th>9996</th>\n",
              "      <td>The Humanity Bureau</td>\n",
              "      <td>95</td>\n",
              "      <td>4.7</td>\n",
              "      <td>NaN</td>\n",
              "      <td>A dystopian thriller set in the year 2030 that...</td>\n",
              "      <td>Rob W. King</td>\n",
              "      <td>7422</td>\n",
              "      <td>Nicolas Cage, Sarah Lind, Jakob Davies, Hugh D...</td>\n",
              "      <td>Action,  Sci-Fi,  Thriller</td>\n",
              "      <td>Action</td>\n",
              "      <td>2017</td>\n",
              "      <td>2017</td>\n",
              "      <td>NaN</td>\n",
              "    </tr>\n",
              "    <tr>\n",
              "      <th>9997</th>\n",
              "      <td>Chicken Girls</td>\n",
              "      <td>7</td>\n",
              "      <td>6.7</td>\n",
              "      <td>NaN</td>\n",
              "      <td>Rhyme and her friends - known by the name \"The...</td>\n",
              "      <td>NaN</td>\n",
              "      <td>537</td>\n",
              "      <td>Jules LeBlanc, Brooke Elizabeth Butler, Indian...</td>\n",
              "      <td>Comedy,  Drama,  Family</td>\n",
              "      <td>Comedy</td>\n",
              "      <td>2017</td>\n",
              "      <td>2017</td>\n",
              "      <td>NaN</td>\n",
              "    </tr>\n",
              "    <tr>\n",
              "      <th>9998</th>\n",
              "      <td>Zombie Spring Breakers</td>\n",
              "      <td>95</td>\n",
              "      <td>3.2</td>\n",
              "      <td>NaN</td>\n",
              "      <td>A group of young people head to Ibiza for the ...</td>\n",
              "      <td>Andy Edwards</td>\n",
              "      <td>787</td>\n",
              "      <td>Marcia Do Vales, Matt King, Seb Castang, Simon...</td>\n",
              "      <td>Action,  Comedy,  Horror</td>\n",
              "      <td>Action</td>\n",
              "      <td>2016</td>\n",
              "      <td>2016</td>\n",
              "      <td>NaN</td>\n",
              "    </tr>\n",
              "    <tr>\n",
              "      <th>9999</th>\n",
              "      <td>Accidental Love</td>\n",
              "      <td>100</td>\n",
              "      <td>4.1</td>\n",
              "      <td>20</td>\n",
              "      <td>A small town waitress gets a nail accidentally...</td>\n",
              "      <td>David O. Russell</td>\n",
              "      <td>7852</td>\n",
              "      <td>Jessica Biel, Raymond L. Brown Jr., Jenny Gull...</td>\n",
              "      <td>Comedy,  Romance</td>\n",
              "      <td>Comedy</td>\n",
              "      <td>2015</td>\n",
              "      <td>2015</td>\n",
              "      <td>NaN</td>\n",
              "    </tr>\n",
              "  </tbody>\n",
              "</table>\n",
              "</div>"
            ]
          },
          "metadata": {
            "tags": [],
            "application/vnd.databricks.v1+output": {
              "datasetInfos": [],
              "data": "<div>\n<style scoped>\n    .dataframe tbody tr th:only-of-type {\n        vertical-align: middle;\n    }\n\n    .dataframe tbody tr th {\n        vertical-align: top;\n    }\n\n    .dataframe thead th {\n        text-align: right;\n    }\n</style>\n<table border=\"1\" class=\"dataframe\">\n  <thead>\n    <tr style=\"text-align: right;\">\n      <th></th>\n      <th>movietitle</th>\n      <th>movieruntime</th>\n      <th>movierating</th>\n      <th>moviescore</th>\n      <th>moviedescription</th>\n      <th>moviedirector</th>\n      <th>movievotes</th>\n      <th>moviestars</th>\n      <th>moviegenre</th>\n      <th>dommoviegenre</th>\n      <th>moviedate</th>\n      <th>moviefirstrun</th>\n      <th>moviegross</th>\n    </tr>\n  </thead>\n  <tbody>\n    <tr>\n      <th>9990</th>\n      <td>The Hardy Boys/Nancy Drew Mysteries</td>\n      <td>60</td>\n      <td>7.5</td>\n      <td>NaN</td>\n      <td>The cases of a pair of teen detective brothers...</td>\n      <td>NaN</td>\n      <td>1362</td>\n      <td>Shaun Cassidy, Parker Stevenson, Pamela Sue Ma...</td>\n      <td>Family,  Mystery</td>\n      <td>Family</td>\n      <td>1977 - 1979</td>\n      <td>1977</td>\n      <td>NaN</td>\n    </tr>\n    <tr>\n      <th>9991</th>\n      <td>Oh, Ramona!</td>\n      <td>109</td>\n      <td>4.9</td>\n      <td>NaN</td>\n      <td>A teenager named Andrei transitions from a tee...</td>\n      <td>Cristina Jacob</td>\n      <td>8017</td>\n      <td>Basil Eidenbenz, Aggy K. Adams, Adina Stetcu, ...</td>\n      <td>Comedy,  Romance</td>\n      <td>Comedy</td>\n      <td>2019</td>\n      <td>2019</td>\n      <td>NaN</td>\n    </tr>\n    <tr>\n      <th>9992</th>\n      <td>Crikey! It's the Irwins</td>\n      <td>NaN</td>\n      <td>8.3</td>\n      <td>NaN</td>\n      <td>The Irwin family share their wildlife adventur...</td>\n      <td>NaN</td>\n      <td>474</td>\n      <td>Terri Irwin, Bindi Irwin, Robert Clarence Irwi...</td>\n      <td>Documentary</td>\n      <td>Documentary</td>\n      <td>2018</td>\n      <td>2018</td>\n      <td>NaN</td>\n    </tr>\n    <tr>\n      <th>9993</th>\n      <td>Voice</td>\n      <td>60</td>\n      <td>7.7</td>\n      <td>NaN</td>\n      <td>Moo Jin-Hyuk (Jang Hyuk) was a popular detecti...</td>\n      <td>NaN</td>\n      <td>1203</td>\n      <td>Lee Hana, Eun-seo Son, Jin-wook Lee, Kim Woo-Seok</td>\n      <td>Action,  Crime,  Mystery</td>\n      <td>Action</td>\n      <td>2017 - 2021</td>\n      <td>2017</td>\n      <td>NaN</td>\n    </tr>\n    <tr>\n      <th>9994</th>\n      <td>Inferno</td>\n      <td>106</td>\n      <td>6.6</td>\n      <td>NaN</td>\n      <td>An American college student in Rome and his si...</td>\n      <td>Dario Argento</td>\n      <td>18864</td>\n      <td>Leigh McCloskey, Irene Miracle, Eleonora Giorg...</td>\n      <td>Horror</td>\n      <td>Horror</td>\n      <td>1980</td>\n      <td>1980</td>\n      <td>NaN</td>\n    </tr>\n    <tr>\n      <th>9995</th>\n      <td>Operation Condor</td>\n      <td>80</td>\n      <td>7.3</td>\n      <td>NaN</td>\n      <td>Jackie is hired to help the UN find Nazi gold ...</td>\n      <td>Jackie Chan</td>\n      <td>18816</td>\n      <td>Jackie Chan, Carol 'Do Do' Cheng, Eva Cobo, Sh...</td>\n      <td>Action,  Adventure,  Comedy</td>\n      <td>Action</td>\n      <td>1991</td>\n      <td>1991</td>\n      <td>1044000.0</td>\n    </tr>\n    <tr>\n      <th>9996</th>\n      <td>The Humanity Bureau</td>\n      <td>95</td>\n      <td>4.7</td>\n      <td>NaN</td>\n      <td>A dystopian thriller set in the year 2030 that...</td>\n      <td>Rob W. King</td>\n      <td>7422</td>\n      <td>Nicolas Cage, Sarah Lind, Jakob Davies, Hugh D...</td>\n      <td>Action,  Sci-Fi,  Thriller</td>\n      <td>Action</td>\n      <td>2017</td>\n      <td>2017</td>\n      <td>NaN</td>\n    </tr>\n    <tr>\n      <th>9997</th>\n      <td>Chicken Girls</td>\n      <td>7</td>\n      <td>6.7</td>\n      <td>NaN</td>\n      <td>Rhyme and her friends - known by the name \"The...</td>\n      <td>NaN</td>\n      <td>537</td>\n      <td>Jules LeBlanc, Brooke Elizabeth Butler, Indian...</td>\n      <td>Comedy,  Drama,  Family</td>\n      <td>Comedy</td>\n      <td>2017</td>\n      <td>2017</td>\n      <td>NaN</td>\n    </tr>\n    <tr>\n      <th>9998</th>\n      <td>Zombie Spring Breakers</td>\n      <td>95</td>\n      <td>3.2</td>\n      <td>NaN</td>\n      <td>A group of young people head to Ibiza for the ...</td>\n      <td>Andy Edwards</td>\n      <td>787</td>\n      <td>Marcia Do Vales, Matt King, Seb Castang, Simon...</td>\n      <td>Action,  Comedy,  Horror</td>\n      <td>Action</td>\n      <td>2016</td>\n      <td>2016</td>\n      <td>NaN</td>\n    </tr>\n    <tr>\n      <th>9999</th>\n      <td>Accidental Love</td>\n      <td>100</td>\n      <td>4.1</td>\n      <td>20</td>\n      <td>A small town waitress gets a nail accidentally...</td>\n      <td>David O. Russell</td>\n      <td>7852</td>\n      <td>Jessica Biel, Raymond L. Brown Jr., Jenny Gull...</td>\n      <td>Comedy,  Romance</td>\n      <td>Comedy</td>\n      <td>2015</td>\n      <td>2015</td>\n      <td>NaN</td>\n    </tr>\n  </tbody>\n</table>\n</div>",
              "textData": null,
              "removedWidgets": [],
              "addedWidgets": {},
              "type": "htmlSandbox",
              "arguments": {}
            }
          }
        }
      ]
    },
    {
      "cell_type": "markdown",
      "metadata": {
        "application/vnd.databricks.v1+cell": {
          "title": "",
          "showTitle": false,
          "inputWidgets": {},
          "nuid": "86245a85-d360-4168-b1e9-46d976639ae5"
        },
        "id": "fUy3V3cWxQ7K"
      },
      "source": [
        "#### Salvar o dataframe em arquivo .csv"
      ]
    },
    {
      "cell_type": "code",
      "metadata": {
        "application/vnd.databricks.v1+cell": {
          "title": "",
          "showTitle": false,
          "inputWidgets": {},
          "nuid": "6340d09b-85f0-4dea-838e-77123f3510fb"
        },
        "id": "mjdF0_7fxQ7K",
        "outputId": "40ab99f8-e945-4ff2-cc1a-886d00d1bd2c"
      },
      "source": [
        "compression_opts = dict(method='zip', archive_name='Movies_Clean.csv')\n",
        "movies_df.to_csv('Movies_Clean.zip', index=True, compression=compression_opts, encoding='windows-1252')"
      ],
      "execution_count": null,
      "outputs": [
        {
          "output_type": "display_data",
          "data": {
            "text/html": [
              "<style scoped>\n",
              "  .ansiout {\n",
              "    display: block;\n",
              "    unicode-bidi: embed;\n",
              "    white-space: pre-wrap;\n",
              "    word-wrap: break-word;\n",
              "    word-break: break-all;\n",
              "    font-family: \"Source Code Pro\", \"Menlo\", monospace;;\n",
              "    font-size: 13px;\n",
              "    color: #555;\n",
              "    margin-left: 4px;\n",
              "    line-height: 19px;\n",
              "  }\n",
              "</style>\n",
              "<div class=\"ansiout\"></div>"
            ]
          },
          "metadata": {
            "tags": [],
            "application/vnd.databricks.v1+output": {
              "datasetInfos": [],
              "data": "<div class=\"ansiout\"></div>",
              "removedWidgets": [],
              "addedWidgets": {},
              "type": "html",
              "arguments": {}
            }
          }
        }
      ]
    },
    {
      "cell_type": "markdown",
      "metadata": {
        "application/vnd.databricks.v1+cell": {
          "title": "",
          "showTitle": false,
          "inputWidgets": {},
          "nuid": "50223787-e2ca-4b31-ba96-aff576afc0b2"
        },
        "id": "hsuK9WOrxQ7L"
      },
      "source": [
        "## 4 - Criar dataframe com filmes organizados por gênero"
      ]
    },
    {
      "cell_type": "markdown",
      "metadata": {
        "application/vnd.databricks.v1+cell": {
          "title": "",
          "showTitle": false,
          "inputWidgets": {},
          "nuid": "fe1b480c-9351-4544-953e-b55c4658c272"
        },
        "id": "mE9ZNRxtxQ7L"
      },
      "source": [
        "### Visualizar a distribuição dos filmes pelo gênero dominante"
      ]
    },
    {
      "cell_type": "code",
      "metadata": {
        "application/vnd.databricks.v1+cell": {
          "title": "",
          "showTitle": false,
          "inputWidgets": {},
          "nuid": "082b7aed-39e5-47d3-97d4-d295bb51652d"
        },
        "id": "VTqfBdl0xQ7L",
        "outputId": "31c0c08f-c675-4c90-d91f-9c4e5839bd96"
      },
      "source": [
        "dommoviegenre_dict = movies_df['dommoviegenre'].value_counts().to_dict()\n",
        "keys_genre = list(dommoviegenre_dict.keys())\n",
        "values_genre = list(dommoviegenre_dict.values())\n",
        "\n",
        "ax = sns.barplot(keys_genre,values_genre)\n",
        "plt.xlabel(\"Gênero\", fontsize=20)\n",
        "plt.ylabel(\"Quantidade\", fontsize=20)\n",
        "fig = plt.gcf()\n",
        "fig.set_size_inches( 25, 8)\n",
        "plt.savefig('genre.png')\n",
        "plt.title(\"Distribuição dos filmes pelo gênero dominante\", fontsize=25) \n",
        "plt.show();"
      ],
      "execution_count": null,
      "outputs": [
        {
          "output_type": "display_data",
          "data": {
            "image/png": "[encoded data removed]"
          },
          "metadata": {
            "tags": [],
            "application/vnd.databricks.v1+output": {
              "datasetInfos": [],
              "data": "/plots/61968bc5-4fe9-4866-8224-df9911966ef1.png",
              "removedWidgets": [],
              "addedWidgets": {},
              "type": "image",
              "arguments": {}
            }
          }
        }
      ]
    },
    {
      "cell_type": "markdown",
      "metadata": {
        "application/vnd.databricks.v1+cell": {
          "title": "",
          "showTitle": false,
          "inputWidgets": {},
          "nuid": "aa414a18-ef9c-43a9-bcbb-a3b30575a1ee"
        },
        "id": "_Xj5xW5cxQ7L"
      },
      "source": [
        "### Criar dataframe com filmes organizados por gênero"
      ]
    },
    {
      "cell_type": "code",
      "metadata": {
        "application/vnd.databricks.v1+cell": {
          "title": "",
          "showTitle": false,
          "inputWidgets": {},
          "nuid": "51f2ff8c-6a56-4ea9-beec-b4f89ee9ca41"
        },
        "id": "-2wH--PAxQ7L",
        "outputId": "e9de8420-c4c7-4043-e6a1-43795d5f0bcf"
      },
      "source": [
        "movies_genre = movies_df.copy()\n",
        "movies_genre.set_index(['movietitle'], inplace=True)\n",
        "groups = dict(tuple(movies_genre.groupby('dommoviegenre')))\n",
        "df_grouped_genre = pd.concat(groups, axis=0, join='outer')\n",
        "df_grouped_genre.drop('dommoviegenre', axis = 1, inplace=True)"
      ],
      "execution_count": null,
      "outputs": [
        {
          "output_type": "display_data",
          "data": {
            "text/html": [
              "<style scoped>\n",
              "  .ansiout {\n",
              "    display: block;\n",
              "    unicode-bidi: embed;\n",
              "    white-space: pre-wrap;\n",
              "    word-wrap: break-word;\n",
              "    word-break: break-all;\n",
              "    font-family: \"Source Code Pro\", \"Menlo\", monospace;;\n",
              "    font-size: 13px;\n",
              "    color: #555;\n",
              "    margin-left: 4px;\n",
              "    line-height: 19px;\n",
              "  }\n",
              "</style>\n",
              "<div class=\"ansiout\"></div>"
            ]
          },
          "metadata": {
            "tags": [],
            "application/vnd.databricks.v1+output": {
              "datasetInfos": [],
              "data": "<div class=\"ansiout\"></div>",
              "removedWidgets": [],
              "addedWidgets": {},
              "type": "html",
              "arguments": {}
            }
          }
        }
      ]
    },
    {
      "cell_type": "code",
      "metadata": {
        "application/vnd.databricks.v1+cell": {
          "title": "",
          "showTitle": false,
          "inputWidgets": {},
          "nuid": "6f60c7af-c5e6-41ad-ac17-38430e4095d8"
        },
        "id": "e2bx1GiFxQ7M",
        "outputId": "ea7a844f-9f12-4450-de56-88aceca86c24"
      },
      "source": [
        "df_grouped_genre.head(10)"
      ],
      "execution_count": null,
      "outputs": [
        {
          "output_type": "display_data",
          "data": {
            "text/html": [
              "<style scoped>\n",
              "  .ansiout {\n",
              "    display: block;\n",
              "    unicode-bidi: embed;\n",
              "    white-space: pre-wrap;\n",
              "    word-wrap: break-word;\n",
              "    word-break: break-all;\n",
              "    font-family: \"Source Code Pro\", \"Menlo\", monospace;;\n",
              "    font-size: 13px;\n",
              "    color: #555;\n",
              "    margin-left: 4px;\n",
              "    line-height: 19px;\n",
              "  }\n",
              "</style>\n",
              "<div class=\"ansiout\">Out[61]: </div>"
            ]
          },
          "metadata": {
            "tags": [],
            "application/vnd.databricks.v1+output": {
              "datasetInfos": [],
              "data": "<div class=\"ansiout\">Out[61]: </div>",
              "removedWidgets": [],
              "addedWidgets": {},
              "type": "html",
              "arguments": {}
            }
          }
        },
        {
          "output_type": "display_data",
          "data": {
            "text/html": [
              "<div>\n",
              "<style scoped>\n",
              "    .dataframe tbody tr th:only-of-type {\n",
              "        vertical-align: middle;\n",
              "    }\n",
              "\n",
              "    .dataframe tbody tr th {\n",
              "        vertical-align: top;\n",
              "    }\n",
              "\n",
              "    .dataframe thead th {\n",
              "        text-align: right;\n",
              "    }\n",
              "</style>\n",
              "<table border=\"1\" class=\"dataframe\">\n",
              "  <thead>\n",
              "    <tr style=\"text-align: right;\">\n",
              "      <th></th>\n",
              "      <th></th>\n",
              "      <th>movieruntime</th>\n",
              "      <th>movierating</th>\n",
              "      <th>moviescore</th>\n",
              "      <th>moviedescription</th>\n",
              "      <th>moviedirector</th>\n",
              "      <th>movievotes</th>\n",
              "      <th>moviestars</th>\n",
              "      <th>moviegenre</th>\n",
              "      <th>moviedate</th>\n",
              "      <th>moviefirstrun</th>\n",
              "      <th>moviegross</th>\n",
              "    </tr>\n",
              "    <tr>\n",
              "      <th></th>\n",
              "      <th>movietitle</th>\n",
              "      <th></th>\n",
              "      <th></th>\n",
              "      <th></th>\n",
              "      <th></th>\n",
              "      <th></th>\n",
              "      <th></th>\n",
              "      <th></th>\n",
              "      <th></th>\n",
              "      <th></th>\n",
              "      <th></th>\n",
              "      <th></th>\n",
              "    </tr>\n",
              "  </thead>\n",
              "  <tbody>\n",
              "    <tr>\n",
              "      <th rowspan=\"10\" valign=\"top\">Action</th>\n",
              "      <th>Game of Thrones</th>\n",
              "      <td>57</td>\n",
              "      <td>9.3</td>\n",
              "      <td>NaN</td>\n",
              "      <td>Nine noble families fight for control over the...</td>\n",
              "      <td>NaN</td>\n",
              "      <td>1772519</td>\n",
              "      <td>Emilia Clarke, Peter Dinklage, Kit Harington, ...</td>\n",
              "      <td>Action,  Adventure,  Drama</td>\n",
              "      <td>2011 - 2019</td>\n",
              "      <td>2011</td>\n",
              "      <td>NaN</td>\n",
              "    </tr>\n",
              "    <tr>\n",
              "      <th>The Mandalorian</th>\n",
              "      <td>40</td>\n",
              "      <td>8.8</td>\n",
              "      <td>NaN</td>\n",
              "      <td>The travels of a lone bounty hunter in the out...</td>\n",
              "      <td>NaN</td>\n",
              "      <td>290530</td>\n",
              "      <td>Pedro Pascal, Gina Carano, Giancarlo Esposito,...</td>\n",
              "      <td>Action,  Adventure,  Sci-Fi</td>\n",
              "      <td>2019</td>\n",
              "      <td>2019</td>\n",
              "      <td>NaN</td>\n",
              "    </tr>\n",
              "    <tr>\n",
              "      <th>Vikings</th>\n",
              "      <td>44</td>\n",
              "      <td>8.5</td>\n",
              "      <td>NaN</td>\n",
              "      <td>Vikings transports us to the brutal and myster...</td>\n",
              "      <td>NaN</td>\n",
              "      <td>433338</td>\n",
              "      <td>Katheryn Winnick, Gustaf Skarsgård, Alexander ...</td>\n",
              "      <td>Action,  Adventure,  Drama</td>\n",
              "      <td>2013 - 2020</td>\n",
              "      <td>2013</td>\n",
              "      <td>NaN</td>\n",
              "    </tr>\n",
              "    <tr>\n",
              "      <th>News of the World</th>\n",
              "      <td>118</td>\n",
              "      <td>6.9</td>\n",
              "      <td>NaN</td>\n",
              "      <td>A Civil War veteran agrees to deliver a girl, ...</td>\n",
              "      <td>Paul Greengrass</td>\n",
              "      <td>31993</td>\n",
              "      <td>Tom Hanks, Helena Zengel, Tom Astor, Travis Jo...</td>\n",
              "      <td>Action,  Adventure,  Drama</td>\n",
              "      <td>2020</td>\n",
              "      <td>2020</td>\n",
              "      <td>NaN</td>\n",
              "    </tr>\n",
              "    <tr>\n",
              "      <th>Greenland</th>\n",
              "      <td>119</td>\n",
              "      <td>6.4</td>\n",
              "      <td>NaN</td>\n",
              "      <td>A family struggles for survival in the face of...</td>\n",
              "      <td>Ric Roman Waugh</td>\n",
              "      <td>60673</td>\n",
              "      <td>Gerard Butler, Morena Baccarin, Roger Dale Flo...</td>\n",
              "      <td>Action,  Drama,  Thriller</td>\n",
              "      <td>2020</td>\n",
              "      <td>2020</td>\n",
              "      <td>NaN</td>\n",
              "    </tr>\n",
              "    <tr>\n",
              "      <th>The Equalizer</th>\n",
              "      <td>NaN</td>\n",
              "      <td>4.2</td>\n",
              "      <td>NaN</td>\n",
              "      <td>An enigmatic figure who uses her extensive ski...</td>\n",
              "      <td>NaN</td>\n",
              "      <td>3497</td>\n",
              "      <td>Queen Latifah, Tory Kittles, Adam Goldberg, Li...</td>\n",
              "      <td>Action,  Crime,  Drama</td>\n",
              "      <td>2021</td>\n",
              "      <td>2021</td>\n",
              "      <td>NaN</td>\n",
              "    </tr>\n",
              "    <tr>\n",
              "      <th>Seungriho</th>\n",
              "      <td>136</td>\n",
              "      <td>6.6</td>\n",
              "      <td>NaN</td>\n",
              "      <td>Set in the year 2092 and follows the crew of a...</td>\n",
              "      <td>Sung-hee Jo</td>\n",
              "      <td>11222</td>\n",
              "      <td>Song Joong-Ki, Kim Tae-ri, Seon-kyu Jin, Hae-J...</td>\n",
              "      <td>Action,  Adventure,  Drama</td>\n",
              "      <td>2021</td>\n",
              "      <td>2021</td>\n",
              "      <td>NaN</td>\n",
              "    </tr>\n",
              "    <tr>\n",
              "      <th>Cobra Kai</th>\n",
              "      <td>30</td>\n",
              "      <td>8.6</td>\n",
              "      <td>NaN</td>\n",
              "      <td>Decades after their 1984 All Valley Karate Tou...</td>\n",
              "      <td>NaN</td>\n",
              "      <td>109266</td>\n",
              "      <td>Ralph Macchio, William Zabka, Xolo Maridueña, ...</td>\n",
              "      <td>Action,  Comedy,  Drama</td>\n",
              "      <td>2018</td>\n",
              "      <td>2018</td>\n",
              "      <td>NaN</td>\n",
              "    </tr>\n",
              "    <tr>\n",
              "      <th>Snowpiercer</th>\n",
              "      <td>60</td>\n",
              "      <td>6.8</td>\n",
              "      <td>NaN</td>\n",
              "      <td>Seven years after the world has become a froze...</td>\n",
              "      <td>NaN</td>\n",
              "      <td>27608</td>\n",
              "      <td>Daveed Diggs, Mickey Sumner, Alison Wright, Je...</td>\n",
              "      <td>Action,  Drama,  Sci-Fi</td>\n",
              "      <td>2020</td>\n",
              "      <td>2020</td>\n",
              "      <td>NaN</td>\n",
              "    </tr>\n",
              "    <tr>\n",
              "      <th>Lupin</th>\n",
              "      <td>231</td>\n",
              "      <td>7.6</td>\n",
              "      <td>NaN</td>\n",
              "      <td>Inspired by the adventures of Arsène Lupin, ge...</td>\n",
              "      <td>NaN</td>\n",
              "      <td>44304</td>\n",
              "      <td>Omar Sy, Vincent Londez, Ludivine Sagnier, Her...</td>\n",
              "      <td>Action,  Crime,  Drama</td>\n",
              "      <td>2021</td>\n",
              "      <td>2021</td>\n",
              "      <td>NaN</td>\n",
              "    </tr>\n",
              "  </tbody>\n",
              "</table>\n",
              "</div>"
            ]
          },
          "metadata": {
            "tags": [],
            "application/vnd.databricks.v1+output": {
              "datasetInfos": [],
              "data": "<div>\n<style scoped>\n    .dataframe tbody tr th:only-of-type {\n        vertical-align: middle;\n    }\n\n    .dataframe tbody tr th {\n        vertical-align: top;\n    }\n\n    .dataframe thead th {\n        text-align: right;\n    }\n</style>\n<table border=\"1\" class=\"dataframe\">\n  <thead>\n    <tr style=\"text-align: right;\">\n      <th></th>\n      <th></th>\n      <th>movieruntime</th>\n      <th>movierating</th>\n      <th>moviescore</th>\n      <th>moviedescription</th>\n      <th>moviedirector</th>\n      <th>movievotes</th>\n      <th>moviestars</th>\n      <th>moviegenre</th>\n      <th>moviedate</th>\n      <th>moviefirstrun</th>\n      <th>moviegross</th>\n    </tr>\n    <tr>\n      <th></th>\n      <th>movietitle</th>\n      <th></th>\n      <th></th>\n      <th></th>\n      <th></th>\n      <th></th>\n      <th></th>\n      <th></th>\n      <th></th>\n      <th></th>\n      <th></th>\n      <th></th>\n    </tr>\n  </thead>\n  <tbody>\n    <tr>\n      <th rowspan=\"10\" valign=\"top\">Action</th>\n      <th>Game of Thrones</th>\n      <td>57</td>\n      <td>9.3</td>\n      <td>NaN</td>\n      <td>Nine noble families fight for control over the...</td>\n      <td>NaN</td>\n      <td>1772519</td>\n      <td>Emilia Clarke, Peter Dinklage, Kit Harington, ...</td>\n      <td>Action,  Adventure,  Drama</td>\n      <td>2011 - 2019</td>\n      <td>2011</td>\n      <td>NaN</td>\n    </tr>\n    <tr>\n      <th>The Mandalorian</th>\n      <td>40</td>\n      <td>8.8</td>\n      <td>NaN</td>\n      <td>The travels of a lone bounty hunter in the out...</td>\n      <td>NaN</td>\n      <td>290530</td>\n      <td>Pedro Pascal, Gina Carano, Giancarlo Esposito,...</td>\n      <td>Action,  Adventure,  Sci-Fi</td>\n      <td>2019</td>\n      <td>2019</td>\n      <td>NaN</td>\n    </tr>\n    <tr>\n      <th>Vikings</th>\n      <td>44</td>\n      <td>8.5</td>\n      <td>NaN</td>\n      <td>Vikings transports us to the brutal and myster...</td>\n      <td>NaN</td>\n      <td>433338</td>\n      <td>Katheryn Winnick, Gustaf Skarsgård, Alexander ...</td>\n      <td>Action,  Adventure,  Drama</td>\n      <td>2013 - 2020</td>\n      <td>2013</td>\n      <td>NaN</td>\n    </tr>\n    <tr>\n      <th>News of the World</th>\n      <td>118</td>\n      <td>6.9</td>\n      <td>NaN</td>\n      <td>A Civil War veteran agrees to deliver a girl, ...</td>\n      <td>Paul Greengrass</td>\n      <td>31993</td>\n      <td>Tom Hanks, Helena Zengel, Tom Astor, Travis Jo...</td>\n      <td>Action,  Adventure,  Drama</td>\n      <td>2020</td>\n      <td>2020</td>\n      <td>NaN</td>\n    </tr>\n    <tr>\n      <th>Greenland</th>\n      <td>119</td>\n      <td>6.4</td>\n      <td>NaN</td>\n      <td>A family struggles for survival in the face of...</td>\n      <td>Ric Roman Waugh</td>\n      <td>60673</td>\n      <td>Gerard Butler, Morena Baccarin, Roger Dale Flo...</td>\n      <td>Action,  Drama,  Thriller</td>\n      <td>2020</td>\n      <td>2020</td>\n      <td>NaN</td>\n    </tr>\n    <tr>\n      <th>The Equalizer</th>\n      <td>NaN</td>\n      <td>4.2</td>\n      <td>NaN</td>\n      <td>An enigmatic figure who uses her extensive ski...</td>\n      <td>NaN</td>\n      <td>3497</td>\n      <td>Queen Latifah, Tory Kittles, Adam Goldberg, Li...</td>\n      <td>Action,  Crime,  Drama</td>\n      <td>2021</td>\n      <td>2021</td>\n      <td>NaN</td>\n    </tr>\n    <tr>\n      <th>Seungriho</th>\n      <td>136</td>\n      <td>6.6</td>\n      <td>NaN</td>\n      <td>Set in the year 2092 and follows the crew of a...</td>\n      <td>Sung-hee Jo</td>\n      <td>11222</td>\n      <td>Song Joong-Ki, Kim Tae-ri, Seon-kyu Jin, Hae-J...</td>\n      <td>Action,  Adventure,  Drama</td>\n      <td>2021</td>\n      <td>2021</td>\n      <td>NaN</td>\n    </tr>\n    <tr>\n      <th>Cobra Kai</th>\n      <td>30</td>\n      <td>8.6</td>\n      <td>NaN</td>\n      <td>Decades after their 1984 All Valley Karate Tou...</td>\n      <td>NaN</td>\n      <td>109266</td>\n      <td>Ralph Macchio, William Zabka, Xolo Maridueña, ...</td>\n      <td>Action,  Comedy,  Drama</td>\n      <td>2018</td>\n      <td>2018</td>\n      <td>NaN</td>\n    </tr>\n    <tr>\n      <th>Snowpiercer</th>\n      <td>60</td>\n      <td>6.8</td>\n      <td>NaN</td>\n      <td>Seven years after the world has become a froze...</td>\n      <td>NaN</td>\n      <td>27608</td>\n      <td>Daveed Diggs, Mickey Sumner, Alison Wright, Je...</td>\n      <td>Action,  Drama,  Sci-Fi</td>\n      <td>2020</td>\n      <td>2020</td>\n      <td>NaN</td>\n    </tr>\n    <tr>\n      <th>Lupin</th>\n      <td>231</td>\n      <td>7.6</td>\n      <td>NaN</td>\n      <td>Inspired by the adventures of Arsène Lupin, ge...</td>\n      <td>NaN</td>\n      <td>44304</td>\n      <td>Omar Sy, Vincent Londez, Ludivine Sagnier, Her...</td>\n      <td>Action,  Crime,  Drama</td>\n      <td>2021</td>\n      <td>2021</td>\n      <td>NaN</td>\n    </tr>\n  </tbody>\n</table>\n</div>",
              "textData": null,
              "removedWidgets": [],
              "addedWidgets": {},
              "type": "htmlSandbox",
              "arguments": {}
            }
          }
        }
      ]
    },
    {
      "cell_type": "markdown",
      "metadata": {
        "application/vnd.databricks.v1+cell": {
          "title": "",
          "showTitle": false,
          "inputWidgets": {},
          "nuid": "45f63f5a-c15a-4e6c-816e-244ddb856d1e"
        },
        "id": "46EBDs_bxQ7M"
      },
      "source": [
        "#### Salvar o dataframe em arquivo .csv"
      ]
    },
    {
      "cell_type": "code",
      "metadata": {
        "application/vnd.databricks.v1+cell": {
          "title": "",
          "showTitle": false,
          "inputWidgets": {},
          "nuid": "0add10aa-6136-45aa-9b35-b2d453c6a125"
        },
        "id": "P0xIdAGfxQ7M",
        "outputId": "621a11d6-8967-4c7e-c45e-357b5cfff0e7"
      },
      "source": [
        "compression_opts = dict(method='zip', archive_name='Moveis Clean Genre.csv')\n",
        "df_grouped_genre.to_csv('Moveis Clean Genre.zip', index=True, compression=compression_opts, encoding='windows-1252')"
      ],
      "execution_count": null,
      "outputs": [
        {
          "output_type": "display_data",
          "data": {
            "text/html": [
              "<style scoped>\n",
              "  .ansiout {\n",
              "    display: block;\n",
              "    unicode-bidi: embed;\n",
              "    white-space: pre-wrap;\n",
              "    word-wrap: break-word;\n",
              "    word-break: break-all;\n",
              "    font-family: \"Source Code Pro\", \"Menlo\", monospace;;\n",
              "    font-size: 13px;\n",
              "    color: #555;\n",
              "    margin-left: 4px;\n",
              "    line-height: 19px;\n",
              "  }\n",
              "</style>\n",
              "<div class=\"ansiout\"></div>"
            ]
          },
          "metadata": {
            "tags": [],
            "application/vnd.databricks.v1+output": {
              "datasetInfos": [],
              "data": "<div class=\"ansiout\"></div>",
              "removedWidgets": [],
              "addedWidgets": {},
              "type": "html",
              "arguments": {}
            }
          }
        }
      ]
    },
    {
      "cell_type": "markdown",
      "metadata": {
        "application/vnd.databricks.v1+cell": {
          "title": "",
          "showTitle": false,
          "inputWidgets": {},
          "nuid": "f35a477a-6a71-4145-ade0-5c4e8bfc2305"
        },
        "id": "usBOc5lTxQ7N"
      },
      "source": [
        "## 5 - Criar dataframe com filmes organizados por ano de lançamento"
      ]
    },
    {
      "cell_type": "markdown",
      "metadata": {
        "application/vnd.databricks.v1+cell": {
          "title": "",
          "showTitle": false,
          "inputWidgets": {},
          "nuid": "e17485fd-0d2d-433d-9396-d86f7eabbdd7"
        },
        "id": "cfsNH1qxxQ7N"
      },
      "source": [
        "### Visualizar a distribuição dos filmes por ano de lançamento"
      ]
    },
    {
      "cell_type": "code",
      "metadata": {
        "application/vnd.databricks.v1+cell": {
          "title": "",
          "showTitle": false,
          "inputWidgets": {},
          "nuid": "6b26bb9f-6f23-46e6-8cbd-2e70bb2cacef"
        },
        "id": "9RbCvIOKxQ7N",
        "outputId": "4ebb2bcd-cd34-4b9d-b602-859194b61bf1"
      },
      "source": [
        "movies_df_sorted = movies_df.sort_values(by=['moviefirstrun'],ascending=False)\n",
        "ax = sns.catplot(data = movies_df_sorted, x = 'moviefirstrun')\n",
        "plt.xlabel(\"Ano de Lançamento\", fontsize=20)\n",
        "plt.ylabel(\"Quantidade\", fontsize=20)\n",
        "plt.xticks(rotation=90)\n",
        "fig = plt.gcf()\n",
        "fig.set_size_inches( 20, 8)\n",
        "plt.title(\"Distribuição dos filmes pelo ano de lançamento\", fontsize=25) \n",
        "plt.savefig('date.png')\n",
        "plt.show();"
      ],
      "execution_count": null,
      "outputs": [
        {
          "output_type": "display_data",
          "data": {
            "image/png": "[encoded data removed]"
          },
          "metadata": {
            "tags": [],
            "application/vnd.databricks.v1+output": {
              "datasetInfos": [],
              "data": "/plots/56b7d0a8-f8d6-4430-b891-548077efb4a1.png",
              "removedWidgets": [],
              "addedWidgets": {},
              "type": "image",
              "arguments": {}
            }
          }
        }
      ]
    },
    {
      "cell_type": "code",
      "metadata": {
        "application/vnd.databricks.v1+cell": {
          "title": "",
          "showTitle": false,
          "inputWidgets": {},
          "nuid": "e70ee0f4-a887-4cc7-9d55-cb1217012674"
        },
        "id": "4s60X0QgxQ7N",
        "outputId": "71ee58e8-d9ed-450c-ae92-21652f634e3f"
      },
      "source": [
        "movies_df_sorted.set_index(['movietitle'], inplace=True)\n",
        "groups = dict(tuple(movies_df_sorted.groupby('moviefirstrun')))\n",
        "df_grouped_date = pd.concat(groups, axis=0, join='outer')\n",
        "df_grouped_date.drop('moviefirstrun', axis = 1, inplace=True)"
      ],
      "execution_count": null,
      "outputs": [
        {
          "output_type": "display_data",
          "data": {
            "text/html": [
              "<style scoped>\n",
              "  .ansiout {\n",
              "    display: block;\n",
              "    unicode-bidi: embed;\n",
              "    white-space: pre-wrap;\n",
              "    word-wrap: break-word;\n",
              "    word-break: break-all;\n",
              "    font-family: \"Source Code Pro\", \"Menlo\", monospace;;\n",
              "    font-size: 13px;\n",
              "    color: #555;\n",
              "    margin-left: 4px;\n",
              "    line-height: 19px;\n",
              "  }\n",
              "</style>\n",
              "<div class=\"ansiout\"></div>"
            ]
          },
          "metadata": {
            "tags": [],
            "application/vnd.databricks.v1+output": {
              "datasetInfos": [],
              "data": "<div class=\"ansiout\"></div>",
              "removedWidgets": [],
              "addedWidgets": {},
              "type": "html",
              "arguments": {}
            }
          }
        }
      ]
    },
    {
      "cell_type": "code",
      "metadata": {
        "application/vnd.databricks.v1+cell": {
          "title": "",
          "showTitle": false,
          "inputWidgets": {},
          "nuid": "fef9958c-eae6-45d0-a7a3-468a45b74c1d"
        },
        "id": "uaFGq3hExQ7O",
        "outputId": "a7730ed2-5110-4d03-9bf3-1c68c83d7062"
      },
      "source": [
        "df_grouped_date.head(20)"
      ],
      "execution_count": null,
      "outputs": [
        {
          "output_type": "display_data",
          "data": {
            "text/html": [
              "<style scoped>\n",
              "  .ansiout {\n",
              "    display: block;\n",
              "    unicode-bidi: embed;\n",
              "    white-space: pre-wrap;\n",
              "    word-wrap: break-word;\n",
              "    word-break: break-all;\n",
              "    font-family: \"Source Code Pro\", \"Menlo\", monospace;;\n",
              "    font-size: 13px;\n",
              "    color: #555;\n",
              "    margin-left: 4px;\n",
              "    line-height: 19px;\n",
              "  }\n",
              "</style>\n",
              "<div class=\"ansiout\">Out[65]: </div>"
            ]
          },
          "metadata": {
            "tags": [],
            "application/vnd.databricks.v1+output": {
              "datasetInfos": [],
              "data": "<div class=\"ansiout\">Out[65]: </div>",
              "removedWidgets": [],
              "addedWidgets": {},
              "type": "html",
              "arguments": {}
            }
          }
        },
        {
          "output_type": "display_data",
          "data": {
            "text/html": [
              "<div>\n",
              "<style scoped>\n",
              "    .dataframe tbody tr th:only-of-type {\n",
              "        vertical-align: middle;\n",
              "    }\n",
              "\n",
              "    .dataframe tbody tr th {\n",
              "        vertical-align: top;\n",
              "    }\n",
              "\n",
              "    .dataframe thead th {\n",
              "        text-align: right;\n",
              "    }\n",
              "</style>\n",
              "<table border=\"1\" class=\"dataframe\">\n",
              "  <thead>\n",
              "    <tr style=\"text-align: right;\">\n",
              "      <th></th>\n",
              "      <th></th>\n",
              "      <th>movieruntime</th>\n",
              "      <th>movierating</th>\n",
              "      <th>moviescore</th>\n",
              "      <th>moviedescription</th>\n",
              "      <th>moviedirector</th>\n",
              "      <th>movievotes</th>\n",
              "      <th>moviestars</th>\n",
              "      <th>moviegenre</th>\n",
              "      <th>dommoviegenre</th>\n",
              "      <th>moviedate</th>\n",
              "      <th>moviegross</th>\n",
              "    </tr>\n",
              "    <tr>\n",
              "      <th></th>\n",
              "      <th>movietitle</th>\n",
              "      <th></th>\n",
              "      <th></th>\n",
              "      <th></th>\n",
              "      <th></th>\n",
              "      <th></th>\n",
              "      <th></th>\n",
              "      <th></th>\n",
              "      <th></th>\n",
              "      <th></th>\n",
              "      <th></th>\n",
              "      <th></th>\n",
              "    </tr>\n",
              "  </thead>\n",
              "  <tbody>\n",
              "    <tr>\n",
              "      <th>1915</th>\n",
              "      <th>The Birth of a Nation</th>\n",
              "      <td>195</td>\n",
              "      <td>6.3</td>\n",
              "      <td>NaN</td>\n",
              "      <td>The Stoneman family finds its friendship with ...</td>\n",
              "      <td>D.W. Griffith</td>\n",
              "      <td>22838</td>\n",
              "      <td>Lillian Gish, Mae Marsh, Henry B. Walthall, Mi...</td>\n",
              "      <td>Drama,  History,  War</td>\n",
              "      <td>Drama</td>\n",
              "      <td>1915</td>\n",
              "      <td>1000000.0</td>\n",
              "    </tr>\n",
              "    <tr>\n",
              "      <th>1920</th>\n",
              "      <th>The Cabinet of Dr. Caligari</th>\n",
              "      <td>67</td>\n",
              "      <td>8.1</td>\n",
              "      <td>NaN</td>\n",
              "      <td>Hypnotist Dr. Caligari uses a somnambulist, Ce...</td>\n",
              "      <td>Robert Wiene</td>\n",
              "      <td>57632</td>\n",
              "      <td>Werner Krauss, Conrad Veidt, Friedrich Feher, ...</td>\n",
              "      <td>Fantasy,  Horror,  Mystery</td>\n",
              "      <td>Fantasy</td>\n",
              "      <td>1920</td>\n",
              "      <td>NaN</td>\n",
              "    </tr>\n",
              "    <tr>\n",
              "      <th>1921</th>\n",
              "      <th>The Kid</th>\n",
              "      <td>68</td>\n",
              "      <td>8.3</td>\n",
              "      <td>NaN</td>\n",
              "      <td>The Tramp cares for an abandoned child, but ev...</td>\n",
              "      <td>Charles Chaplin</td>\n",
              "      <td>113971</td>\n",
              "      <td>Charles Chaplin, Edna Purviance, Jackie Coogan...</td>\n",
              "      <td>Comedy,  Drama,  Family</td>\n",
              "      <td>Comedy</td>\n",
              "      <td>1921</td>\n",
              "      <td>545000.0</td>\n",
              "    </tr>\n",
              "    <tr>\n",
              "      <th>1922</th>\n",
              "      <th>Nosferatu</th>\n",
              "      <td>94</td>\n",
              "      <td>7.9</td>\n",
              "      <td>NaN</td>\n",
              "      <td>Vampire Count Orlok expresses interest in a ne...</td>\n",
              "      <td>F.W. Murnau</td>\n",
              "      <td>89052</td>\n",
              "      <td>Max Schreck, Alexander Granach, Gustav von Wan...</td>\n",
              "      <td>Fantasy,  Horror</td>\n",
              "      <td>Fantasy</td>\n",
              "      <td>1922</td>\n",
              "      <td>NaN</td>\n",
              "    </tr>\n",
              "    <tr>\n",
              "      <th rowspan=\"2\" valign=\"top\">1925</th>\n",
              "      <th>The Gold Rush</th>\n",
              "      <td>95</td>\n",
              "      <td>8.2</td>\n",
              "      <td>NaN</td>\n",
              "      <td>A prospector goes to the Klondike in search of...</td>\n",
              "      <td>Charles Chaplin</td>\n",
              "      <td>101538</td>\n",
              "      <td>Charles Chaplin, Mack Swain, Tom Murray, Henry...</td>\n",
              "      <td>Adventure,  Comedy,  Drama</td>\n",
              "      <td>Adventure</td>\n",
              "      <td>1925</td>\n",
              "      <td>545000.0</td>\n",
              "    </tr>\n",
              "    <tr>\n",
              "      <th>Battleship Potemkin</th>\n",
              "      <td>66</td>\n",
              "      <td>8.0</td>\n",
              "      <td>NaN</td>\n",
              "      <td>In the midst of the Russian Revolution of 1905...</td>\n",
              "      <td>Sergei M. Eisenstein</td>\n",
              "      <td>53276</td>\n",
              "      <td>Aleksandr Antonov, Vladimir Barskiy, Grigoriy ...</td>\n",
              "      <td>Drama,  History,  Thriller</td>\n",
              "      <td>Drama</td>\n",
              "      <td>1925</td>\n",
              "      <td>5000.0</td>\n",
              "    </tr>\n",
              "    <tr>\n",
              "      <th>1927</th>\n",
              "      <th>Metropolis</th>\n",
              "      <td>153</td>\n",
              "      <td>8.3</td>\n",
              "      <td>NaN</td>\n",
              "      <td>In a futuristic city sharply divided between t...</td>\n",
              "      <td>Fritz Lang</td>\n",
              "      <td>160599</td>\n",
              "      <td>Brigitte Helm, Alfred Abel, Gustav Fröhlich, R...</td>\n",
              "      <td>Drama,  Sci-Fi</td>\n",
              "      <td>Drama</td>\n",
              "      <td>1927</td>\n",
              "      <td>124000.0</td>\n",
              "    </tr>\n",
              "    <tr>\n",
              "      <th>1928</th>\n",
              "      <th>The Passion of Joan of Arc</th>\n",
              "      <td>114</td>\n",
              "      <td>8.1</td>\n",
              "      <td>NaN</td>\n",
              "      <td>In 1431, Jeanne d'Arc is placed on trial on ch...</td>\n",
              "      <td>Carl Theodor Dreyer</td>\n",
              "      <td>48027</td>\n",
              "      <td>Maria Falconetti, Eugene Silvain, André Berley...</td>\n",
              "      <td>Biography,  Drama,  History</td>\n",
              "      <td>Biography</td>\n",
              "      <td>1928</td>\n",
              "      <td>2000.0</td>\n",
              "    </tr>\n",
              "    <tr>\n",
              "      <th>1930</th>\n",
              "      <th>All Quiet on the Western Front</th>\n",
              "      <td>152</td>\n",
              "      <td>8.0</td>\n",
              "      <td>NaN</td>\n",
              "      <td>A German youth eagerly enters World War I, but...</td>\n",
              "      <td>Lewis Milestone</td>\n",
              "      <td>57417</td>\n",
              "      <td>Lew Ayres, Louis Wolheim, John Wray, Arnold Lucy</td>\n",
              "      <td>Drama,  War</td>\n",
              "      <td>Drama</td>\n",
              "      <td>1930</td>\n",
              "      <td>327000.0</td>\n",
              "    </tr>\n",
              "    <tr>\n",
              "      <th rowspan=\"5\" valign=\"top\">1931</th>\n",
              "      <th>M</th>\n",
              "      <td>99</td>\n",
              "      <td>8.3</td>\n",
              "      <td>NaN</td>\n",
              "      <td>When the police in a German city are unable to...</td>\n",
              "      <td>Fritz Lang</td>\n",
              "      <td>144033</td>\n",
              "      <td>Peter Lorre, Ellen Widmann, Inge Landgut, Otto...</td>\n",
              "      <td>Crime,  Mystery,  Thriller</td>\n",
              "      <td>Crime</td>\n",
              "      <td>1931</td>\n",
              "      <td>3000.0</td>\n",
              "    </tr>\n",
              "    <tr>\n",
              "      <th>Dracula</th>\n",
              "      <td>75</td>\n",
              "      <td>7.5</td>\n",
              "      <td>NaN</td>\n",
              "      <td>After a naive real estate agent succumbs to th...</td>\n",
              "      <td>Tod Browning, Karl Freund</td>\n",
              "      <td>47025</td>\n",
              "      <td>Bela Lugosi, Helen Chandler, David Manners, Dw...</td>\n",
              "      <td>Drama,  Fantasy,  Horror</td>\n",
              "      <td>Drama</td>\n",
              "      <td>1931</td>\n",
              "      <td>NaN</td>\n",
              "    </tr>\n",
              "    <tr>\n",
              "      <th>City Lights</th>\n",
              "      <td>87</td>\n",
              "      <td>8.5</td>\n",
              "      <td>NaN</td>\n",
              "      <td>With the aid of a wealthy erratic tippler, a d...</td>\n",
              "      <td>Charles Chaplin</td>\n",
              "      <td>168531</td>\n",
              "      <td>Charles Chaplin, Virginia Cherrill, Florence L...</td>\n",
              "      <td>Comedy,  Drama,  Romance</td>\n",
              "      <td>Comedy</td>\n",
              "      <td>1931</td>\n",
              "      <td>2000.0</td>\n",
              "    </tr>\n",
              "    <tr>\n",
              "      <th>The Public Enemy</th>\n",
              "      <td>83</td>\n",
              "      <td>7.7</td>\n",
              "      <td>NaN</td>\n",
              "      <td>An Irish-American street punk tries to make it...</td>\n",
              "      <td>William A. Wellman</td>\n",
              "      <td>17947</td>\n",
              "      <td>James Cagney, Jean Harlow, Edward Woods, Joan ...</td>\n",
              "      <td>Crime,  Drama</td>\n",
              "      <td>Crime</td>\n",
              "      <td>1931</td>\n",
              "      <td>NaN</td>\n",
              "    </tr>\n",
              "    <tr>\n",
              "      <th>Frankenstein</th>\n",
              "      <td>70</td>\n",
              "      <td>7.8</td>\n",
              "      <td>NaN</td>\n",
              "      <td>Dr. Frankenstein dares to tamper with life and...</td>\n",
              "      <td>James Whale</td>\n",
              "      <td>65529</td>\n",
              "      <td>Colin Clive, Mae Clarke, Boris Karloff, John B...</td>\n",
              "      <td>Drama,  Horror,  Sci-Fi</td>\n",
              "      <td>Drama</td>\n",
              "      <td>1931</td>\n",
              "      <td>NaN</td>\n",
              "    </tr>\n",
              "    <tr>\n",
              "      <th rowspan=\"4\" valign=\"top\">1932</th>\n",
              "      <th>Man Wanted</th>\n",
              "      <td>62</td>\n",
              "      <td>6.5</td>\n",
              "      <td>NaN</td>\n",
              "      <td>A female editor of a magazine falls in love wi...</td>\n",
              "      <td>William Dieterle</td>\n",
              "      <td>598</td>\n",
              "      <td>Kay Francis, David Manners, Una Merkel, Andy D...</td>\n",
              "      <td>Romance,  Comedy,  Drama</td>\n",
              "      <td>Romance</td>\n",
              "      <td>1932</td>\n",
              "      <td>NaN</td>\n",
              "    </tr>\n",
              "    <tr>\n",
              "      <th>Beauty and the Boss</th>\n",
              "      <td>66</td>\n",
              "      <td>6.9</td>\n",
              "      <td>NaN</td>\n",
              "      <td>An executive hires a mousy, plain woman as his...</td>\n",
              "      <td>Roy Del Ruth</td>\n",
              "      <td>518</td>\n",
              "      <td>Marian Marsh, David Manners, Warren William, C...</td>\n",
              "      <td>Comedy,  Romance</td>\n",
              "      <td>Comedy</td>\n",
              "      <td>1932</td>\n",
              "      <td>NaN</td>\n",
              "    </tr>\n",
              "    <tr>\n",
              "      <th>Freaks</th>\n",
              "      <td>64</td>\n",
              "      <td>7.9</td>\n",
              "      <td>NaN</td>\n",
              "      <td>A circus' beautiful trapeze artist agrees to m...</td>\n",
              "      <td>Tod Browning</td>\n",
              "      <td>42210</td>\n",
              "      <td>Wallace Ford, Leila Hyams, Olga Baclanova, Ros...</td>\n",
              "      <td>Drama,  Horror</td>\n",
              "      <td>Drama</td>\n",
              "      <td>1932</td>\n",
              "      <td>NaN</td>\n",
              "    </tr>\n",
              "    <tr>\n",
              "      <th>Scarface</th>\n",
              "      <td>93</td>\n",
              "      <td>7.8</td>\n",
              "      <td>NaN</td>\n",
              "      <td>An ambitious and nearly insane violent gangste...</td>\n",
              "      <td>Howard Hawks, Richard Rosson</td>\n",
              "      <td>25389</td>\n",
              "      <td>Paul Muni, Ann Dvorak, Karen Morley, Osgood Pe...</td>\n",
              "      <td>Action,  Crime,  Drama</td>\n",
              "      <td>Action</td>\n",
              "      <td>1932</td>\n",
              "      <td>NaN</td>\n",
              "    </tr>\n",
              "    <tr>\n",
              "      <th rowspan=\"2\" valign=\"top\">1933</th>\n",
              "      <th>42nd Street</th>\n",
              "      <td>89</td>\n",
              "      <td>7.4</td>\n",
              "      <td>NaN</td>\n",
              "      <td>When the leading lady of a Broadway musical br...</td>\n",
              "      <td>Lloyd Bacon</td>\n",
              "      <td>10800</td>\n",
              "      <td>Warner Baxter, Bebe Daniels, George Brent, Rub...</td>\n",
              "      <td>Comedy,  Drama,  Musical</td>\n",
              "      <td>Comedy</td>\n",
              "      <td>1933</td>\n",
              "      <td>230000.0</td>\n",
              "    </tr>\n",
              "    <tr>\n",
              "      <th>The Keyhole</th>\n",
              "      <td>69</td>\n",
              "      <td>6.4</td>\n",
              "      <td>NaN</td>\n",
              "      <td>Anne Brooks is being blackmailed by her old da...</td>\n",
              "      <td>Michael Curtiz</td>\n",
              "      <td>504</td>\n",
              "      <td>Kay Francis, George Brent, Glenda Farrell, Mon...</td>\n",
              "      <td>Comedy,  Drama,  Romance</td>\n",
              "      <td>Comedy</td>\n",
              "      <td>1933</td>\n",
              "      <td>NaN</td>\n",
              "    </tr>\n",
              "  </tbody>\n",
              "</table>\n",
              "</div>"
            ]
          },
          "metadata": {
            "tags": [],
            "application/vnd.databricks.v1+output": {
              "datasetInfos": [],
              "data": "<div>\n<style scoped>\n    .dataframe tbody tr th:only-of-type {\n        vertical-align: middle;\n    }\n\n    .dataframe tbody tr th {\n        vertical-align: top;\n    }\n\n    .dataframe thead th {\n        text-align: right;\n    }\n</style>\n<table border=\"1\" class=\"dataframe\">\n  <thead>\n    <tr style=\"text-align: right;\">\n      <th></th>\n      <th></th>\n      <th>movieruntime</th>\n      <th>movierating</th>\n      <th>moviescore</th>\n      <th>moviedescription</th>\n      <th>moviedirector</th>\n      <th>movievotes</th>\n      <th>moviestars</th>\n      <th>moviegenre</th>\n      <th>dommoviegenre</th>\n      <th>moviedate</th>\n      <th>moviegross</th>\n    </tr>\n    <tr>\n      <th></th>\n      <th>movietitle</th>\n      <th></th>\n      <th></th>\n      <th></th>\n      <th></th>\n      <th></th>\n      <th></th>\n      <th></th>\n      <th></th>\n      <th></th>\n      <th></th>\n      <th></th>\n    </tr>\n  </thead>\n  <tbody>\n    <tr>\n      <th>1915</th>\n      <th>The Birth of a Nation</th>\n      <td>195</td>\n      <td>6.3</td>\n      <td>NaN</td>\n      <td>The Stoneman family finds its friendship with ...</td>\n      <td>D.W. Griffith</td>\n      <td>22838</td>\n      <td>Lillian Gish, Mae Marsh, Henry B. Walthall, Mi...</td>\n      <td>Drama,  History,  War</td>\n      <td>Drama</td>\n      <td>1915</td>\n      <td>1000000.0</td>\n    </tr>\n    <tr>\n      <th>1920</th>\n      <th>The Cabinet of Dr. Caligari</th>\n      <td>67</td>\n      <td>8.1</td>\n      <td>NaN</td>\n      <td>Hypnotist Dr. Caligari uses a somnambulist, Ce...</td>\n      <td>Robert Wiene</td>\n      <td>57632</td>\n      <td>Werner Krauss, Conrad Veidt, Friedrich Feher, ...</td>\n      <td>Fantasy,  Horror,  Mystery</td>\n      <td>Fantasy</td>\n      <td>1920</td>\n      <td>NaN</td>\n    </tr>\n    <tr>\n      <th>1921</th>\n      <th>The Kid</th>\n      <td>68</td>\n      <td>8.3</td>\n      <td>NaN</td>\n      <td>The Tramp cares for an abandoned child, but ev...</td>\n      <td>Charles Chaplin</td>\n      <td>113971</td>\n      <td>Charles Chaplin, Edna Purviance, Jackie Coogan...</td>\n      <td>Comedy,  Drama,  Family</td>\n      <td>Comedy</td>\n      <td>1921</td>\n      <td>545000.0</td>\n    </tr>\n    <tr>\n      <th>1922</th>\n      <th>Nosferatu</th>\n      <td>94</td>\n      <td>7.9</td>\n      <td>NaN</td>\n      <td>Vampire Count Orlok expresses interest in a ne...</td>\n      <td>F.W. Murnau</td>\n      <td>89052</td>\n      <td>Max Schreck, Alexander Granach, Gustav von Wan...</td>\n      <td>Fantasy,  Horror</td>\n      <td>Fantasy</td>\n      <td>1922</td>\n      <td>NaN</td>\n    </tr>\n    <tr>\n      <th rowspan=\"2\" valign=\"top\">1925</th>\n      <th>The Gold Rush</th>\n      <td>95</td>\n      <td>8.2</td>\n      <td>NaN</td>\n      <td>A prospector goes to the Klondike in search of...</td>\n      <td>Charles Chaplin</td>\n      <td>101538</td>\n      <td>Charles Chaplin, Mack Swain, Tom Murray, Henry...</td>\n      <td>Adventure,  Comedy,  Drama</td>\n      <td>Adventure</td>\n      <td>1925</td>\n      <td>545000.0</td>\n    </tr>\n    <tr>\n      <th>Battleship Potemkin</th>\n      <td>66</td>\n      <td>8.0</td>\n      <td>NaN</td>\n      <td>In the midst of the Russian Revolution of 1905...</td>\n      <td>Sergei M. Eisenstein</td>\n      <td>53276</td>\n      <td>Aleksandr Antonov, Vladimir Barskiy, Grigoriy ...</td>\n      <td>Drama,  History,  Thriller</td>\n      <td>Drama</td>\n      <td>1925</td>\n      <td>5000.0</td>\n    </tr>\n    <tr>\n      <th>1927</th>\n      <th>Metropolis</th>\n      <td>153</td>\n      <td>8.3</td>\n      <td>NaN</td>\n      <td>In a futuristic city sharply divided between t...</td>\n      <td>Fritz Lang</td>\n      <td>160599</td>\n      <td>Brigitte Helm, Alfred Abel, Gustav Fröhlich, R...</td>\n      <td>Drama,  Sci-Fi</td>\n      <td>Drama</td>\n      <td>1927</td>\n      <td>124000.0</td>\n    </tr>\n    <tr>\n      <th>1928</th>\n      <th>The Passion of Joan of Arc</th>\n      <td>114</td>\n      <td>8.1</td>\n      <td>NaN</td>\n      <td>In 1431, Jeanne d'Arc is placed on trial on ch...</td>\n      <td>Carl Theodor Dreyer</td>\n      <td>48027</td>\n      <td>Maria Falconetti, Eugene Silvain, André Berley...</td>\n      <td>Biography,  Drama,  History</td>\n      <td>Biography</td>\n      <td>1928</td>\n      <td>2000.0</td>\n    </tr>\n    <tr>\n      <th>1930</th>\n      <th>All Quiet on the Western Front</th>\n      <td>152</td>\n      <td>8.0</td>\n      <td>NaN</td>\n      <td>A German youth eagerly enters World War I, but...</td>\n      <td>Lewis Milestone</td>\n      <td>57417</td>\n      <td>Lew Ayres, Louis Wolheim, John Wray, Arnold Lucy</td>\n      <td>Drama,  War</td>\n      <td>Drama</td>\n      <td>1930</td>\n      <td>327000.0</td>\n    </tr>\n    <tr>\n      <th rowspan=\"5\" valign=\"top\">1931</th>\n      <th>M</th>\n      <td>99</td>\n      <td>8.3</td>\n      <td>NaN</td>\n      <td>When the police in a German city are unable to...</td>\n      <td>Fritz Lang</td>\n      <td>144033</td>\n      <td>Peter Lorre, Ellen Widmann, Inge Landgut, Otto...</td>\n      <td>Crime,  Mystery,  Thriller</td>\n      <td>Crime</td>\n      <td>1931</td>\n      <td>3000.0</td>\n    </tr>\n    <tr>\n      <th>Dracula</th>\n      <td>75</td>\n      <td>7.5</td>\n      <td>NaN</td>\n      <td>After a naive real estate agent succumbs to th...</td>\n      <td>Tod Browning, Karl Freund</td>\n      <td>47025</td>\n      <td>Bela Lugosi, Helen Chandler, David Manners, Dw...</td>\n      <td>Drama,  Fantasy,  Horror</td>\n      <td>Drama</td>\n      <td>1931</td>\n      <td>NaN</td>\n    </tr>\n    <tr>\n      <th>City Lights</th>\n      <td>87</td>\n      <td>8.5</td>\n      <td>NaN</td>\n      <td>With the aid of a wealthy erratic tippler, a d...</td>\n      <td>Charles Chaplin</td>\n      <td>168531</td>\n      <td>Charles Chaplin, Virginia Cherrill, Florence L...</td>\n      <td>Comedy,  Drama,  Romance</td>\n      <td>Comedy</td>\n      <td>1931</td>\n      <td>2000.0</td>\n    </tr>\n    <tr>\n      <th>The Public Enemy</th>\n      <td>83</td>\n      <td>7.7</td>\n      <td>NaN</td>\n      <td>An Irish-American street punk tries to make it...</td>\n      <td>William A. Wellman</td>\n      <td>17947</td>\n      <td>James Cagney, Jean Harlow, Edward Woods, Joan ...</td>\n      <td>Crime,  Drama</td>\n      <td>Crime</td>\n      <td>1931</td>\n      <td>NaN</td>\n    </tr>\n    <tr>\n      <th>Frankenstein</th>\n      <td>70</td>\n      <td>7.8</td>\n      <td>NaN</td>\n      <td>Dr. Frankenstein dares to tamper with life and...</td>\n      <td>James Whale</td>\n      <td>65529</td>\n      <td>Colin Clive, Mae Clarke, Boris Karloff, John B...</td>\n      <td>Drama,  Horror,  Sci-Fi</td>\n      <td>Drama</td>\n      <td>1931</td>\n      <td>NaN</td>\n    </tr>\n    <tr>\n      <th rowspan=\"4\" valign=\"top\">1932</th>\n      <th>Man Wanted</th>\n      <td>62</td>\n      <td>6.5</td>\n      <td>NaN</td>\n      <td>A female editor of a magazine falls in love wi...</td>\n      <td>William Dieterle</td>\n      <td>598</td>\n      <td>Kay Francis, David Manners, Una Merkel, Andy D...</td>\n      <td>Romance,  Comedy,  Drama</td>\n      <td>Romance</td>\n      <td>1932</td>\n      <td>NaN</td>\n    </tr>\n    <tr>\n      <th>Beauty and the Boss</th>\n      <td>66</td>\n      <td>6.9</td>\n      <td>NaN</td>\n      <td>An executive hires a mousy, plain woman as his...</td>\n      <td>Roy Del Ruth</td>\n      <td>518</td>\n      <td>Marian Marsh, David Manners, Warren William, C...</td>\n      <td>Comedy,  Romance</td>\n      <td>Comedy</td>\n      <td>1932</td>\n      <td>NaN</td>\n    </tr>\n    <tr>\n      <th>Freaks</th>\n      <td>64</td>\n      <td>7.9</td>\n      <td>NaN</td>\n      <td>A circus' beautiful trapeze artist agrees to m...</td>\n      <td>Tod Browning</td>\n      <td>42210</td>\n      <td>Wallace Ford, Leila Hyams, Olga Baclanova, Ros...</td>\n      <td>Drama,  Horror</td>\n      <td>Drama</td>\n      <td>1932</td>\n      <td>NaN</td>\n    </tr>\n    <tr>\n      <th>Scarface</th>\n      <td>93</td>\n      <td>7.8</td>\n      <td>NaN</td>\n      <td>An ambitious and nearly insane violent gangste...</td>\n      <td>Howard Hawks, Richard Rosson</td>\n      <td>25389</td>\n      <td>Paul Muni, Ann Dvorak, Karen Morley, Osgood Pe...</td>\n      <td>Action,  Crime,  Drama</td>\n      <td>Action</td>\n      <td>1932</td>\n      <td>NaN</td>\n    </tr>\n    <tr>\n      <th rowspan=\"2\" valign=\"top\">1933</th>\n      <th>42nd Street</th>\n      <td>89</td>\n      <td>7.4</td>\n      <td>NaN</td>\n      <td>When the leading lady of a Broadway musical br...</td>\n      <td>Lloyd Bacon</td>\n      <td>10800</td>\n      <td>Warner Baxter, Bebe Daniels, George Brent, Rub...</td>\n      <td>Comedy,  Drama,  Musical</td>\n      <td>Comedy</td>\n      <td>1933</td>\n      <td>230000.0</td>\n    </tr>\n    <tr>\n      <th>The Keyhole</th>\n      <td>69</td>\n      <td>6.4</td>\n      <td>NaN</td>\n      <td>Anne Brooks is being blackmailed by her old da...</td>\n      <td>Michael Curtiz</td>\n      <td>504</td>\n      <td>Kay Francis, George Brent, Glenda Farrell, Mon...</td>\n      <td>Comedy,  Drama,  Romance</td>\n      <td>Comedy</td>\n      <td>1933</td>\n      <td>NaN</td>\n    </tr>\n  </tbody>\n</table>\n</div>",
              "textData": null,
              "removedWidgets": [],
              "addedWidgets": {},
              "type": "htmlSandbox",
              "arguments": {}
            }
          }
        }
      ]
    },
    {
      "cell_type": "markdown",
      "metadata": {
        "application/vnd.databricks.v1+cell": {
          "title": "",
          "showTitle": false,
          "inputWidgets": {},
          "nuid": "d37aec86-91f7-4715-ad0c-3ef5b9a93ee5"
        },
        "id": "HGinGhK6xQ7O"
      },
      "source": [
        "#### Salvar o dataframe em arquivo .csv"
      ]
    },
    {
      "cell_type": "code",
      "metadata": {
        "application/vnd.databricks.v1+cell": {
          "title": "",
          "showTitle": false,
          "inputWidgets": {},
          "nuid": "0ec0fdc2-9270-4e5c-b356-edbf9afcc2ab"
        },
        "id": "68Y1UrK5xQ7O",
        "outputId": "997b026a-2b1b-4a5a-8201-2fefbff98cf2"
      },
      "source": [
        "compression_opts = dict(method='zip', archive_name='Moveis Clean Date.csv')\n",
        "df_grouped_date.to_csv('Moveis Clean Date.zip', index=True, compression=compression_opts, encoding='windows-1252')"
      ],
      "execution_count": null,
      "outputs": [
        {
          "output_type": "display_data",
          "data": {
            "text/html": [
              "<style scoped>\n",
              "  .ansiout {\n",
              "    display: block;\n",
              "    unicode-bidi: embed;\n",
              "    white-space: pre-wrap;\n",
              "    word-wrap: break-word;\n",
              "    word-break: break-all;\n",
              "    font-family: \"Source Code Pro\", \"Menlo\", monospace;;\n",
              "    font-size: 13px;\n",
              "    color: #555;\n",
              "    margin-left: 4px;\n",
              "    line-height: 19px;\n",
              "  }\n",
              "</style>\n",
              "<div class=\"ansiout\"></div>"
            ]
          },
          "metadata": {
            "tags": [],
            "application/vnd.databricks.v1+output": {
              "datasetInfos": [],
              "data": "<div class=\"ansiout\"></div>",
              "removedWidgets": [],
              "addedWidgets": {},
              "type": "html",
              "arguments": {}
            }
          }
        }
      ]
    }
  ]
}